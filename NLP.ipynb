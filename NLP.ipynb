{
 "cells": [
  {
   "cell_type": "code",
   "execution_count": 1,
   "id": "surrounded-advance",
   "metadata": {},
   "outputs": [],
   "source": [
    "from nltk.corpus import brown"
   ]
  },
  {
   "cell_type": "code",
   "execution_count": 2,
   "id": "identical-germany",
   "metadata": {},
   "outputs": [
    {
     "name": "stderr",
     "output_type": "stream",
     "text": [
      "[nltk_data] Downloading package brown to\n",
      "[nltk_data]     C:\\Users\\dell\\AppData\\Roaming\\nltk_data...\n",
      "[nltk_data]   Package brown is already up-to-date!\n",
      "[nltk_data] Downloading package punkt to\n",
      "[nltk_data]     C:\\Users\\dell\\AppData\\Roaming\\nltk_data...\n",
      "[nltk_data]   Package punkt is already up-to-date!\n"
     ]
    },
    {
     "data": {
      "text/plain": [
       "True"
      ]
     },
     "execution_count": 2,
     "metadata": {},
     "output_type": "execute_result"
    }
   ],
   "source": [
    "# data collection\n",
    "import nltk\n",
    "nltk.download('brown')\n",
    "nltk.download('punkt')"
   ]
  },
  {
   "cell_type": "code",
   "execution_count": 3,
   "id": "consolidated-revelation",
   "metadata": {},
   "outputs": [
    {
     "name": "stdout",
     "output_type": "stream",
     "text": [
      "['adventure', 'belles_lettres', 'editorial', 'fiction', 'government', 'hobbies', 'humor', 'learned', 'lore', 'mystery', 'news', 'religion', 'reviews', 'romance', 'science_fiction']\n"
     ]
    }
   ],
   "source": [
    "print(brown.categories())"
   ]
  },
  {
   "cell_type": "code",
   "execution_count": 4,
   "id": "recent-adams",
   "metadata": {},
   "outputs": [
    {
     "name": "stdout",
     "output_type": "stream",
     "text": [
      "[['Assembly', 'session', 'brought', 'much', 'good'], ['The', 'General', 'Assembly', ',', 'which', 'adjourns', 'today', ',', 'has', 'performed', 'in', 'an', 'atmosphere', 'of', 'crisis', 'and', 'struggle', 'from', 'the', 'day', 'it', 'convened', '.'], ...]\n",
      "<class 'nltk.corpus.reader.util.ConcatenatedCorpusView'>\n",
      "2997\n"
     ]
    }
   ],
   "source": [
    "data = brown.sents(categories = 'editorial')\n",
    "print(data)\n",
    "print(type(data) )\n",
    "print(len(data))"
   ]
  },
  {
   "cell_type": "code",
   "execution_count": 5,
   "id": "balanced-cabin",
   "metadata": {},
   "outputs": [],
   "source": [
    "#tokenisation and stopword removal\n",
    "\n"
   ]
  },
  {
   "cell_type": "code",
   "execution_count": 6,
   "id": "polished-shift",
   "metadata": {},
   "outputs": [],
   "source": [
    "from nltk.tokenize import sent_tokenize , word_tokenize\n",
    "text = \"A very pleasant day and it's cool to go for a jog .\"\n"
   ]
  },
  {
   "cell_type": "code",
   "execution_count": 7,
   "id": "likely-jordan",
   "metadata": {},
   "outputs": [
    {
     "name": "stdout",
     "output_type": "stream",
     "text": [
      "[\"A very pleasant day and it's cool to go for a jog .\"]\n"
     ]
    }
   ],
   "source": [
    "sents = sent_tokenize(text)\n",
    "print(sents)"
   ]
  },
  {
   "cell_type": "code",
   "execution_count": 8,
   "id": "engaged-corporation",
   "metadata": {},
   "outputs": [
    {
     "name": "stdout",
     "output_type": "stream",
     "text": [
      "['a', 'very', 'pleasant', 'day', 'and', 'it', \"'s\", 'cool', 'to', 'go', 'for', 'a', 'jog', '.']\n"
     ]
    }
   ],
   "source": [
    "word_list = word_tokenize(sents[0].lower())\n",
    "print(word_list)"
   ]
  },
  {
   "cell_type": "code",
   "execution_count": 9,
   "id": "aerial-packet",
   "metadata": {},
   "outputs": [
    {
     "name": "stderr",
     "output_type": "stream",
     "text": [
      "[nltk_data] Downloading package stopwords to\n",
      "[nltk_data]     C:\\Users\\dell\\AppData\\Roaming\\nltk_data...\n",
      "[nltk_data]   Package stopwords is already up-to-date!\n"
     ]
    },
    {
     "data": {
      "text/plain": [
       "True"
      ]
     },
     "execution_count": 9,
     "metadata": {},
     "output_type": "execute_result"
    }
   ],
   "source": [
    "# stopwords removal\n",
    "from nltk.corpus import stopwords\n",
    "import nltk\n",
    "nltk.download('stopwords')"
   ]
  },
  {
   "cell_type": "code",
   "execution_count": 10,
   "id": "induced-final",
   "metadata": {},
   "outputs": [
    {
     "name": "stdout",
     "output_type": "stream",
     "text": [
      "{'won', 'until', \"isn't\", \"weren't\", 'to', 'down', 'up', \"you've\", \"didn't\", 'by', \"couldn't\", \"hasn't\", 'wasn', 'it', 'them', 'than', 'weren', 'ours', 'if', 'has', 'am', 'does', 'doing', 'any', 'wouldn', 'with', 'between', 'didn', 'no', 'ourselves', 'about', 'hasn', 'him', 'o', 'needn', 'once', 'have', 'yourself', 'some', \"aren't\", \"wouldn't\", 'we', 'do', \"won't\", 'himself', 'themselves', \"that'll\", 'can', 'm', 'its', 'on', 'our', 'just', 'their', 'what', \"hadn't\", 'those', 'during', 'under', 'not', 'ain', 'being', 'yours', \"shouldn't\", 'y', 'couldn', 'don', \"don't\", 'very', 'were', 'mightn', 'isn', 'will', 'myself', 'herself', 'your', 'they', 'but', \"wasn't\", 'such', 'is', 'me', 'you', 'her', 'i', 'or', 'over', \"should've\", \"mustn't\", 'shouldn', 'out', 'shan', 'having', 'below', 'before', 'aren', 'an', 'ma', 'into', 'was', 'his', 'most', 'doesn', \"shan't\", \"doesn't\", 'and', 've', 'now', 'so', 'haven', 'itself', 'other', 'a', 'which', 'only', 'for', 'been', 'theirs', 'did', 'own', 'had', 'after', \"you're\", 'this', 'too', 'against', 'nor', 'why', \"she's\", 'in', 'both', 't', 'as', 'there', \"it's\", 'then', 'each', 'from', 'off', 'how', 'the', 'few', 'mustn', 'while', 'whom', 'where', 'she', 'same', 'these', \"you'll\", 'at', 'are', 'should', 'my', 're', 'above', 'that', 'all', 'more', 'of', \"needn't\", 'who', \"you'd\", 'd', 's', 'further', 'be', \"mightn't\", 'through', 'because', 'he', 'yourselves', 'again', 'll', 'hadn', \"haven't\", 'here', 'when', 'hers'} 179\n"
     ]
    }
   ],
   "source": [
    "sw = set(stopwords.words('english'))\n",
    "print(sw,len(sw))"
   ]
  },
  {
   "cell_type": "code",
   "execution_count": 11,
   "id": "unexpected-blade",
   "metadata": {},
   "outputs": [],
   "source": [
    "# filter the stopwords \n",
    "def filter_words(word_list) :\n",
    "    sw = set(stopwords.words('english'))\n",
    "    useful_words = [w for w in word_list if w  not in sw]\n",
    "    return useful_words"
   ]
  },
  {
   "cell_type": "code",
   "execution_count": 12,
   "id": "worse-malta",
   "metadata": {},
   "outputs": [
    {
     "name": "stdout",
     "output_type": "stream",
     "text": [
      "['pleasant', 'day', \"'s\", 'cool', 'go', 'jog', '.']\n"
     ]
    }
   ],
   "source": [
    "useful = filter_words(word_list)\n",
    "print(useful)"
   ]
  },
  {
   "cell_type": "code",
   "execution_count": 13,
   "id": "interior-winner",
   "metadata": {},
   "outputs": [],
   "source": [
    "from nltk.tokenize import RegexpTokenizer\n"
   ]
  },
  {
   "cell_type": "code",
   "execution_count": 14,
   "id": "removed-indie",
   "metadata": {},
   "outputs": [
    {
     "name": "stdout",
     "output_type": "stream",
     "text": [
      "['find', 'out', 'the', 'alphabets']\n"
     ]
    }
   ],
   "source": [
    "token = RegexpTokenizer(\"[a-z0-9]+\")\n",
    "sent = \"find out the alphabets\"\n",
    "print(token.tokenize(sent))"
   ]
  },
  {
   "cell_type": "code",
   "execution_count": null,
   "id": "arctic-thousand",
   "metadata": {},
   "outputs": [],
   "source": []
  },
  {
   "cell_type": "code",
   "execution_count": null,
   "id": "surgical-halloween",
   "metadata": {},
   "outputs": [],
   "source": []
  },
  {
   "cell_type": "code",
   "execution_count": 15,
   "id": "individual-assault",
   "metadata": {},
   "outputs": [
    {
     "name": "stdout",
     "output_type": "stream",
     "text": [
      "['the', 'quick', 'brown', 'fox', 'was', 'seen', 'jumping', 'over', 'the', 'lazy', 'dog', 'from', 'high', 'wall', 'foxes', 'love', 'to', 'make', 'jumps']\n"
     ]
    }
   ],
   "source": [
    "text = 'the quick brown fox was seen jumping over the lazy dog from high wall . Foxes love to make jumps .'\n",
    "print(token.tokenize(text.lower()))"
   ]
  },
  {
   "cell_type": "code",
   "execution_count": 16,
   "id": "fabulous-uzbekistan",
   "metadata": {},
   "outputs": [],
   "source": [
    "# Types of stemmers \n",
    "# 1 . Snowball stemmer \n",
    "# 2 . Porter stemmer \n",
    "# 3 . Lancaster stemmer\n",
    "from nltk.stem.snowball import PorterStemmer, SnowballStemmer\n",
    "from nltk.stem.lancaster import LancasterStemmer \n",
    "\n"
   ]
  },
  {
   "cell_type": "code",
   "execution_count": 17,
   "id": "linear-insurance",
   "metadata": {},
   "outputs": [
    {
     "data": {
      "text/plain": [
       "'jump'"
      ]
     },
     "execution_count": 17,
     "metadata": {},
     "output_type": "execute_result"
    }
   ],
   "source": [
    "ps = PorterStemmer() \n",
    "ps.stem('jumping') "
   ]
  },
  {
   "cell_type": "code",
   "execution_count": 18,
   "id": "pregnant-reunion",
   "metadata": {},
   "outputs": [
    {
     "data": {
      "text/plain": [
       "'awe'"
      ]
     },
     "execution_count": 18,
     "metadata": {},
     "output_type": "execute_result"
    }
   ],
   "source": [
    "ps.stem('aweful') "
   ]
  },
  {
   "cell_type": "code",
   "execution_count": 19,
   "id": "corporate-blowing",
   "metadata": {},
   "outputs": [
    {
     "data": {
      "text/plain": [
       "'awesom'"
      ]
     },
     "execution_count": 19,
     "metadata": {},
     "output_type": "execute_result"
    }
   ],
   "source": [
    "ls =LancasterStemmer()\n",
    "ls.stem('awesome')"
   ]
  },
  {
   "cell_type": "code",
   "execution_count": 22,
   "id": "plastic-shield",
   "metadata": {},
   "outputs": [
    {
     "name": "stdout",
     "output_type": "stream",
     "text": [
      "teen\n",
      "teenag\n"
     ]
    }
   ],
   "source": [
    "print(ls.stem('teenager'))\n",
    "print(ps.stem('teenager'))\n",
    "# different types of stemming employs different types of algorithms "
   ]
  },
  {
   "cell_type": "code",
   "execution_count": 25,
   "id": "young-macintosh",
   "metadata": {},
   "outputs": [
    {
     "data": {
      "text/plain": [
       "'teenag'"
      ]
     },
     "execution_count": 25,
     "metadata": {},
     "output_type": "execute_result"
    }
   ],
   "source": [
    "ss=SnowballStemmer('english')\n",
    "ss.stem('teenager')"
   ]
  },
  {
   "cell_type": "code",
   "execution_count": null,
   "id": "private-collaboration",
   "metadata": {},
   "outputs": [],
   "source": []
  }
 ],
 "metadata": {
  "kernelspec": {
   "display_name": "Python 3",
   "language": "python",
   "name": "python3"
  },
  "language_info": {
   "codemirror_mode": {
    "name": "ipython",
    "version": 3
   },
   "file_extension": ".py",
   "mimetype": "text/x-python",
   "name": "python",
   "nbconvert_exporter": "python",
   "pygments_lexer": "ipython3",
   "version": "3.9.1"
  }
 },
 "nbformat": 4,
 "nbformat_minor": 5
}
