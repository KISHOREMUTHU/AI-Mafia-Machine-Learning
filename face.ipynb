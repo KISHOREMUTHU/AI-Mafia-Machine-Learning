{
 "cells": [
  {
   "cell_type": "code",
   "execution_count": null,
   "metadata": {},
   "outputs": [
    {
     "name": "stdout",
     "output_type": "stream",
     "text": [
      "Enter the name of the person : wade7\n"
     ]
    }
   ],
   "source": [
    "import cv2\n",
    "import numpy as np\n",
    "\n",
    "cap =cv2.VideoCapture(0)\n",
    "face_cascade = cv2.CascadeClassifier(r'C:/Users/dell/Desktop/haarcascade_frontalface_alt.xml')\n",
    "face_data =[]\n",
    "#dataset_path=\"C:\\Users\\dell\\PycharmProjects\"\n",
    "file_name = input(\"Enter the name of the person : \")\n",
    "\n",
    "while True :\n",
    "    ret , frame = cap.read()\n",
    "    if ret == False :\n",
    "          continue\n",
    "      #cv2.imshow(\"frame1\",frame)\n",
    "    gray_frame = cv2.cvtColor(frame, cv2.COLOR_BGR2GRAY)\n",
    "    faces = face_cascade.detectMultiScale(gray_frame, 1.3, 5)\n",
    "    if (len(faces) == 0):\n",
    "          continue\n",
    "    faces = sorted(faces, key=lambda f: f[2] * f[3])\n",
    "      # We have to pick the face having the largest area\n",
    "    for face in faces[-1:]:\n",
    "        x, y, w, h = face\n",
    "        cv2.rectangle(frame, (x, y), (x+w, y+h), (0, 255, 255), 2)\n",
    "        cv2.imshow(\"frame2\", frame)\n",
    "        offset = 10\n",
    "        face_section = gray_frame[y - offset:y + h + offset, x - offset:x + w + offset]\n",
    "        face_section = cv2.resize(face_section, (100, 100))\n",
    "        face_data.append(face_section)\n",
    "        print(len(face_section))\n",
    "          # cv2.imshow(\"frame2\",fqrame)\n",
    "\n",
    "        cv2.imshow(\"gray\", gray_frame)\n",
    "    key_press = cv2.waitKey(1) & 0xFF\n",
    "    if key_press == ord('q'):\n",
    "             break\n",
    "face_data = np.asarray(face_data)\n",
    "face_data = face_data.reshape((face_data.shape[0], -1))\n",
    "print(face_data.shape)\n",
    "np.save('C:\\\\Users\\\\dell\\\\PycharmProjects\\\\' + file_name + '.npy', face_data)\n",
    "print(\"Data saved\")\n",
    "\n",
    "cap.release()\n",
    "cv2.waitKey(0)\n",
    "cv2.destroyAllWindows()"
   ]
  },
  {
   "cell_type": "code",
   "execution_count": null,
   "metadata": {},
   "outputs": [],
   "source": []
  }
 ],
 "metadata": {
  "kernelspec": {
   "display_name": "Python 3",
   "language": "python",
   "name": "python3"
  },
  "language_info": {
   "codemirror_mode": {
    "name": "ipython",
    "version": 3
   },
   "file_extension": ".py",
   "mimetype": "text/x-python",
   "name": "python",
   "nbconvert_exporter": "python",
   "pygments_lexer": "ipython3",
   "version": "3.8.5"
  }
 },
 "nbformat": 4,
 "nbformat_minor": 4
}
