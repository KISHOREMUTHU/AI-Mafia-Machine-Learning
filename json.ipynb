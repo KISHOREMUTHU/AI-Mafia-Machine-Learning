{
 "cells": [
  {
   "cell_type": "code",
   "execution_count": 1,
   "metadata": {},
   "outputs": [],
   "source": [
    "import numpy as np\n",
    "import pandas as pd\n",
    "from collections import OrderedDict\n",
    "import simplejson as json\n",
    "import json"
   ]
  },
  {
   "cell_type": "code",
   "execution_count": 2,
   "metadata": {},
   "outputs": [],
   "source": [
    "#df = pd.read_csv(r'C:\\Users\\dell\\Downloads\\Copy of Subscription_list.csv.csv')"
   ]
  },
  {
   "cell_type": "code",
   "execution_count": null,
   "metadata": {},
   "outputs": [],
   "source": []
  },
  {
   "cell_type": "code",
   "execution_count": 3,
   "metadata": {},
   "outputs": [],
   "source": [
    "import xlrd"
   ]
  },
  {
   "cell_type": "code",
   "execution_count": null,
   "metadata": {},
   "outputs": [],
   "source": [
    "\n"
   ]
  },
  {
   "cell_type": "code",
   "execution_count": null,
   "metadata": {},
   "outputs": [],
   "source": []
  },
  {
   "cell_type": "code",
   "execution_count": null,
   "metadata": {},
   "outputs": [],
   "source": []
  },
  {
   "cell_type": "code",
   "execution_count": 4,
   "metadata": {},
   "outputs": [],
   "source": [
    "import json\n",
    "from collections import OrderedDict\n",
    "from itertools import islice\n",
    "from openpyxl import load_workbook"
   ]
  },
  {
   "cell_type": "code",
   "execution_count": 5,
   "metadata": {},
   "outputs": [],
   "source": [
    "from sheet2dict import Worksheet"
   ]
  },
  {
   "cell_type": "code",
   "execution_count": 6,
   "metadata": {},
   "outputs": [],
   "source": [
    "import excel2json\n",
    "\n",
    "#excel2json.convert_from_file('C:/Users/dell/Downloads/subscription.xlsx')"
   ]
  },
  {
   "cell_type": "code",
   "execution_count": null,
   "metadata": {},
   "outputs": [],
   "source": [
    "\n"
   ]
  },
  {
   "cell_type": "code",
   "execution_count": null,
   "metadata": {},
   "outputs": [],
   "source": []
  },
  {
   "cell_type": "code",
   "execution_count": null,
   "metadata": {},
   "outputs": [],
   "source": [
    "\n"
   ]
  },
  {
   "cell_type": "code",
   "execution_count": null,
   "metadata": {},
   "outputs": [],
   "source": []
  },
  {
   "cell_type": "code",
   "execution_count": null,
   "metadata": {},
   "outputs": [],
   "source": []
  },
  {
   "cell_type": "code",
   "execution_count": null,
   "metadata": {},
   "outputs": [],
   "source": []
  },
  {
   "cell_type": "code",
   "execution_count": null,
   "metadata": {},
   "outputs": [],
   "source": []
  },
  {
   "cell_type": "code",
   "execution_count": 10,
   "metadata": {},
   "outputs": [],
   "source": [
    "excel_data_df = pd.read_excel(r'C:/Users/dell/Downloads/lost_found_clean.xlsx')"
   ]
  },
  {
   "cell_type": "code",
   "execution_count": 11,
   "metadata": {},
   "outputs": [],
   "source": [
    "json_str = excel_data_df.to_json(orient='records')"
   ]
  },
  {
   "cell_type": "code",
   "execution_count": 12,
   "metadata": {},
   "outputs": [
    {
     "data": {
      "text/plain": [
       "'[{\"Place\":\"Block-1\",\"Lost_Found Co-ordinator\":\" Kate Owens\",\"Lost_Found Co-ordinator Mobile No\":7299933259,\"Cleanliness Co-ordinator\":\" Chung Klinger\",\"Cleanliness Co-ordinator Mobile No\":6379659221},{\"Place\":\"Block-1  Canteen\",\"Lost_Found Co-ordinator\":\" Shelly Jimenez\",\"Lost_Found Co-ordinator Mobile No\":7299933259,\"Cleanliness Co-ordinator\":\" Tiffanie Fuchs\",\"Cleanliness Co-ordinator Mobile No\":6379659221},{\"Place\":\"Block-2\",\"Lost_Found Co-ordinator\":\"Wade Munoz\",\"Lost_Found Co-ordinator Mobile No\":7299933259,\"Cleanliness Co-ordinator\":\"Masako Bone\",\"Cleanliness Co-ordinator Mobile No\":6379659221},{\"Place\":\"Block-3\",\"Lost_Found Co-ordinator\":\"Willard Walters\",\"Lost_Found Co-ordinator Mobile No\":7299933259,\"Cleanliness Co-ordinator\":\" Wes Burleson\",\"Cleanliness Co-ordinator Mobile No\":6379659221},{\"Place\":\"Block-4\",\"Lost_Found Co-ordinator\":\"Florence Burns\",\"Lost_Found Co-ordinator Mobile No\":7299933259,\"Cleanliness Co-ordinator\":\"Markus Geary\",\"Cleanliness Co-ordinator Mobile No\":6379659221},{\"Place\":\"Block-5\",\"Lost_Found Co-ordinator\":\"Chelsea Blair\",\"Lost_Found Co-ordinator Mobile No\":7299933259,\"Cleanliness Co-ordinator\":\"Tamatha Ashton\",\"Cleanliness Co-ordinator Mobile No\":6379659221},{\"Place\":\"Block-5 Canteen\",\"Lost_Found Co-ordinator\":\"Vicky Conner\",\"Lost_Found Co-ordinator Mobile No\":7299933259,\"Cleanliness Co-ordinator\":\" Selina Pulliam\",\"Cleanliness Co-ordinator Mobile No\":6379659221},{\"Place\":\"OAT\",\"Lost_Found Co-ordinator\":\" Erika Webb\",\"Lost_Found Co-ordinator Mobile No\":7299933259,\"Cleanliness Co-ordinator\":\" Jeffry Strong\",\"Cleanliness Co-ordinator Mobile No\":6379659221},{\"Place\":\"Multipurpose Hall\",\"Lost_Found Co-ordinator\":\"Ernest Chambers\",\"Lost_Found Co-ordinator Mobile No\":7299933259,\"Cleanliness Co-ordinator\":\"Reena Raley\",\"Cleanliness Co-ordinator Mobile No\":6379659221},{\"Place\":\"Bus Bay-North\",\"Lost_Found Co-ordinator\":\"Orville Floyd\",\"Lost_Found Co-ordinator Mobile No\":7299933259,\"Cleanliness Co-ordinator\":\" Chance Peel\",\"Cleanliness Co-ordinator Mobile No\":6379659221},{\"Place\":\"Bus Bay-South\",\"Lost_Found Co-ordinator\":\"Mamie Lynch\",\"Lost_Found Co-ordinator Mobile No\":7299933259,\"Cleanliness Co-ordinator\":\" Jude Stamm\",\"Cleanliness Co-ordinator Mobile No\":6379659221},{\"Place\":\"Parking\",\"Lost_Found Co-ordinator\":\" Tasha Becker\",\"Lost_Found Co-ordinator Mobile No\":7299933259,\"Cleanliness Co-ordinator\":\" Stacee Ault\",\"Cleanliness Co-ordinator Mobile No\":6379659221},{\"Place\":\"Applied Chemistry\",\"Lost_Found Co-ordinator\":\" Tamara Houston\",\"Lost_Found Co-ordinator Mobile No\":7299933259,\"Cleanliness Co-ordinator\":\" Mark Drury\",\"Cleanliness Co-ordinator Mobile No\":6379659221},{\"Place\":\"Applied Maths\",\"Lost_Found Co-ordinator\":\" Emanuel Palmer\",\"Lost_Found Co-ordinator Mobile No\":7299933259,\"Cleanliness Co-ordinator\":\"Luise Gardiner\",\"Cleanliness Co-ordinator Mobile No\":6379659221},{\"Place\":\"Applied Physics\",\"Lost_Found Co-ordinator\":\" Irene Hoffman\",\"Lost_Found Co-ordinator Mobile No\":7299933259,\"Cleanliness Co-ordinator\":\"Marylou Rainey\",\"Cleanliness Co-ordinator Mobile No\":6379659221},{\"Place\":\"Automobile Engineering\",\"Lost_Found Co-ordinator\":\" Cody Bradley\",\"Lost_Found Co-ordinator Mobile No\":7299933259,\"Cleanliness Co-ordinator\":\" Jackeline Bragg\",\"Cleanliness Co-ordinator Mobile No\":6379659221},{\"Place\":\"Biotechnology\",\"Lost_Found Co-ordinator\":\"Ellen Sharp\",\"Lost_Found Co-ordinator Mobile No\":7299933259,\"Cleanliness Co-ordinator\":\"Ingrid Connell\",\"Cleanliness Co-ordinator Mobile No\":6379659221},{\"Place\":\"Chemical Engineering\",\"Lost_Found Co-ordinator\":\" Eduardo Cross\",\"Lost_Found Co-ordinator Mobile No\":7299933259,\"Cleanliness Co-ordinator\":\" Carey Low\",\"Cleanliness Co-ordinator Mobile No\":6379659221},{\"Place\":\"Civil Engineering\",\"Lost_Found Co-ordinator\":\" Caleb Hammond\",\"Lost_Found Co-ordinator Mobile No\":7299933259,\"Cleanliness Co-ordinator\":\" Cheree Cupp\",\"Cleanliness Co-ordinator Mobile No\":6379659221},{\"Place\":\"Computer Science Engineering\",\"Lost_Found Co-ordinator\":\" Wendell Walsh\",\"Lost_Found Co-ordinator Mobile No\":7299933259,\"Cleanliness Co-ordinator\":\" Jacquline Connelly\",\"Cleanliness Co-ordinator Mobile No\":6379659221},{\"Place\":\"Electrical and Electronics Engineering\",\"Lost_Found Co-ordinator\":\"Donald Klein\",\"Lost_Found Co-ordinator Mobile No\":7299933259,\"Cleanliness Co-ordinator\":\"Albertina Giordano\",\"Cleanliness Co-ordinator Mobile No\":6379659221},{\"Place\":\"Electronics and Communication Engineering\",\"Lost_Found Co-ordinator\":\"Clara Curry\",\"Lost_Found Co-ordinator Mobile No\":7299933259,\"Cleanliness Co-ordinator\":\"Rubye Peck\",\"Cleanliness Co-ordinator Mobile No\":6379659221},{\"Place\":\"Humanities and Social Sciences\",\"Lost_Found Co-ordinator\":\" Lester Pope\",\"Lost_Found Co-ordinator Mobile No\":7299933259,\"Cleanliness Co-ordinator\":\" Fermin Albright\",\"Cleanliness Co-ordinator Mobile No\":6379659221},{\"Place\":\"Information Technology\",\"Lost_Found Co-ordinator\":\" Ruth Swanson\",\"Lost_Found Co-ordinator Mobile No\":7299933259,\"Cleanliness Co-ordinator\":\" Elois Abell\",\"Cleanliness Co-ordinator Mobile No\":6379659221},{\"Place\":\"Mechanical Engineering\",\"Lost_Found Co-ordinator\":\" Jose Cole\",\"Lost_Found Co-ordinator Mobile No\":7299933259,\"Cleanliness Co-ordinator\":\" Millicent Lomax\",\"Cleanliness Co-ordinator Mobile No\":6379659221},{\"Place\":\"Marine Engineering\",\"Lost_Found Co-ordinator\":\"Peter Parker\",\"Lost_Found Co-ordinator Mobile No\":7299933259,\"Cleanliness Co-ordinator\":\"Angelina Jolie\",\"Cleanliness Co-ordinator Mobile No\":6379659221}]'"
      ]
     },
     "execution_count": 12,
     "metadata": {},
     "output_type": "execute_result"
    }
   ],
   "source": [
    "json_str"
   ]
  },
  {
   "cell_type": "code",
   "execution_count": null,
   "metadata": {},
   "outputs": [],
   "source": []
  },
  {
   "cell_type": "code",
   "execution_count": null,
   "metadata": {},
   "outputs": [],
   "source": []
  }
 ],
 "metadata": {
  "kernelspec": {
   "display_name": "Python 3",
   "language": "python",
   "name": "python3"
  },
  "language_info": {
   "codemirror_mode": {
    "name": "ipython",
    "version": 3
   },
   "file_extension": ".py",
   "mimetype": "text/x-python",
   "name": "python",
   "nbconvert_exporter": "python",
   "pygments_lexer": "ipython3",
   "version": "3.8.5"
  }
 },
 "nbformat": 4,
 "nbformat_minor": 4
}
