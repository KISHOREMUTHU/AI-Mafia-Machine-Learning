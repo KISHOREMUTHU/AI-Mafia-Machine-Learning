{
 "cells": [
  {
   "cell_type": "code",
   "execution_count": 1,
   "metadata": {},
   "outputs": [],
   "source": [
    "import numpy as np\n",
    "import pandas as pd\n",
    "from collections import OrderedDict\n",
    "import simplejson as json\n",
    "import json"
   ]
  },
  {
   "cell_type": "code",
   "execution_count": 2,
   "metadata": {},
   "outputs": [],
   "source": [
    "#df = pd.read_csv(r'C:\\Users\\dell\\Downloads\\Copy of Subscription_list.csv.csv')"
   ]
  },
  {
   "cell_type": "code",
   "execution_count": null,
   "metadata": {},
   "outputs": [],
   "source": []
  },
  {
   "cell_type": "code",
   "execution_count": 3,
   "metadata": {},
   "outputs": [],
   "source": [
    "import xlrd"
   ]
  },
  {
   "cell_type": "code",
   "execution_count": null,
   "metadata": {},
   "outputs": [],
   "source": [
    "\n"
   ]
  },
  {
   "cell_type": "code",
   "execution_count": null,
   "metadata": {},
   "outputs": [],
   "source": []
  },
  {
   "cell_type": "code",
   "execution_count": null,
   "metadata": {},
   "outputs": [],
   "source": []
  },
  {
   "cell_type": "code",
   "execution_count": 4,
   "metadata": {},
   "outputs": [],
   "source": [
    "import json\n",
    "from collections import OrderedDict\n",
    "from itertools import islice\n",
    "from openpyxl import load_workbook"
   ]
  },
  {
   "cell_type": "code",
   "execution_count": 5,
   "metadata": {},
   "outputs": [],
   "source": [
    "from sheet2dict import Worksheet"
   ]
  },
  {
   "cell_type": "code",
   "execution_count": 6,
   "metadata": {},
   "outputs": [],
   "source": [
    "import excel2json\n",
    "\n",
    "#excel2json.convert_from_file('C:/Users/dell/Downloads/subscription.xlsx')"
   ]
  },
  {
   "cell_type": "code",
   "execution_count": null,
   "metadata": {},
   "outputs": [],
   "source": [
    "\n"
   ]
  },
  {
   "cell_type": "code",
   "execution_count": null,
   "metadata": {},
   "outputs": [],
   "source": []
  },
  {
   "cell_type": "code",
   "execution_count": null,
   "metadata": {},
   "outputs": [],
   "source": [
    "\n"
   ]
  },
  {
   "cell_type": "code",
   "execution_count": null,
   "metadata": {},
   "outputs": [],
   "source": []
  },
  {
   "cell_type": "code",
   "execution_count": null,
   "metadata": {},
   "outputs": [],
   "source": []
  },
  {
   "cell_type": "code",
   "execution_count": null,
   "metadata": {},
   "outputs": [],
   "source": []
  },
  {
   "cell_type": "code",
   "execution_count": null,
   "metadata": {},
   "outputs": [],
   "source": []
  },
  {
   "cell_type": "code",
   "execution_count": 7,
   "metadata": {},
   "outputs": [],
   "source": [
    "excel_data_df = pd.read_excel(r'C:/Users/dell/Downloads/bus.xlsx')"
   ]
  },
  {
   "cell_type": "code",
   "execution_count": 8,
   "metadata": {},
   "outputs": [],
   "source": [
    "json_str = excel_data_df.to_json(orient='records')"
   ]
  },
  {
   "cell_type": "code",
   "execution_count": 9,
   "metadata": {},
   "outputs": [
    {
     "data": {
      "text/plain": [
       "'[{\"Route No\":1,\"Bus Route\":\"Tiruvotriyur\",\"Starting Point\":\"Lift Gate (6:15 am)\",\"Via\":\"Lift Gate, Wimco Nagar, Ajax Bus Stand, Vellyanchetty School, Theradi, Raja Kadai, Toll Gate Tondiarpet Appolo Hospital, Kasi Medu, Kal Mandapam - Police Station, Royapuram Signal, Highcourt, Central, Dhinathanthi, Ega Theater, Taylors Road, Aminchikarai Market, Anna Nagar Arch, NSK Nagar, Panchali Amman Koil, Arumbakkam, Koyambedu -Rohini Theater, Nerkundram, Madhura\"},{\"Route No\":2,\"Bus Route\":\"TVK Park\",\"Starting Point\":\"TVK Park (6:45 am)\",\"Via\":\"TVK Park, Chinthamani, Anna Nagar Rountana, Shanthi Colony, Blue Star, 12th Main Road, Thirumangalam, Koyambedu -Rohini Theater, Nerkundram, Madhuravoil Ration shop, Madhuravoil Market, Madhuravoil Bridge\\\\/Signal, Vengatachalapathy Kalyana Mandapam, Vellappan Chavadi, Poonamalle- Byepass\"},{\"Route No\":3,\"Bus Route\":\"Doveton\",\"Starting Point\":\"Silverstar Hotel (6:25 am)\",\"Via\":\"Silver Star Hotel, Gangadheeswarar koil, Aysha Hospital Bus stop, Abirami theatre, Kellys (Nagappa Motors), Kilpauk Garden, Kellys Kallarai( New Avadi road junction), Chinthamani, Anna Nagar Rountana, Shanthi Colony, Blue Star, 12th Main Road, Thirumangalam, Koyambedu -Rohini Theater, Nerkundram, Madhuravoil Ration shop, Madhuravoil Market, Madhuravoil Bridge\\\\/Signal, Vengatachala\"},{\"Route No\":4,\"Bus Route\":\"Perambur\",\"Starting Point\":\"Perambur Rly Stn (6:15 am)\",\"Via\":\"Perambur Rly Station, Perambur Bus Stand, B.B Road, Jeeva Station, BNC Mill, Otteri, T.B. Hospital, Ayanavaram Signal, ESI, Medavakkam, Murugan Hospital Chinthamani, Anna Nagar Rountana, Shanthi Colony, Blue Star, 12th Main Road, Thirumangalam, Koyambedu -Rohini Theater, Nerkundram, Madhuravoil Ration shop, Madhuravoil Market, Madhuravoil Bridge\\\\/Signal, Vengatachalapathy Kalya\"},{\"Route No\":7,\"Bus Route\":\"Moolakadai\",\"Starting Point\":\"Moolakadai (6:30 am)\",\"Via\":\"Moolakadai, Sembiyam Don Bosco, TVK Nagar Bus Stand, Periyar Nagar, Anna Silai -Don Bosco, Welding Shop, Retteri, Senthil Nagar, Anna Nagar West Depot, Koyambedu -Rohini Theater, Nerkundram, MGR University, Madhuravoil Ration Shop, Madhuravoil Market, Madhuravoil Bridge Signal, Venkatachalapathy Kalyana Mandapam, Vellappan Chavadi, Poonamalle -Byepass\"},{\"Route No\":8,\"Bus Route\":\"Valluvar Kottam\",\"Starting Point\":\"Anna Statue (6:40 am)\",\"Via\":\"Anna Statue, Nungambakkam Police Station, Sterling Road (sangeetha Hotel), Chetpet Bus stop, Ega Theatre, Taylors Road, Aminchikarai Market, Anna Nagar Arch, NSK Nagar, Panchali Amman Koil, Arumbakkam, Koyambedu -Rohini Theater, Nerkundram, Madhuravoil Ration shop, Madhuravoil Market, Madhuravoil Bridge\\\\/Signal, Vengatachalapathy Kalyana Mandapam, Vellappan Chavadi, Poonamalle- B\"},{\"Route No\":9,\"Bus Route\":\"Lucas TVS\",\"Starting Point\":\"Lucas TVS (6:40 am)\",\"Via\":\"Lucas TVS, Britannia, Ambattur Estate, Telephone Exchange, Dunlop, Canara Bank, Ambattur OT, Thirumullaivoil, Vaishnavi Nagar, Murugappa Polytechnic, Avadi B.S, Avadi Check Post, Ramarathna Theatre, Avadi Market, JB Estate, Murthy Nagar, Govarthanagiri, SA Polytechnic, Paruthipattu Bridge, Kaduvetti, Senneerkuppam -Bridge, Ponnamalle Bye pass\"},{\"Route No\":\"9A\",\"Bus Route\":\"Redhills\",\"Starting Point\":\"Redhills Bus Stand (6:20 am)\",\"Via\":\"Kavangarai,Puzhal,Surapedu,Kallikuppam,Pudur, Rakki,Thirumullaivoil,Vaishnavi,Avadi,Check post,Ramarathna,Avadi Market, Ricemill, Govarthanagiri,Paruthipettai, Kaduvetti, SA Engg college, Seneerkuppam, Poonamalle,Nazarathpettai,Chembarambakkam\"},{\"Route No\":10,\"Bus Route\":\"Lucas TVS\",\"Starting Point\":\"Lucas TVS (6:40 am)\",\"Via\":\"Lucas TVS, Britannia, Ambattur Estate, Telephone Exchange, Dunlop, Canara Bank, Ambattur OT, Thirumullaivoil, Vaishnavi Nagar, Murugappa Polytechnic, Avadi B.S, Avadi Check Post, Ramarathna Theatre, Avadi Market, JB Estate, Murthy Nagar, Govarthanagiri, SA Polytechnic, Paruthipattu Bridge, Kaduvetti, Senneerkuppam -Bridge, Ponnamalle Bye pass\"},{\"Route No\":11,\"Bus Route\":\"Lotus Colony\",\"Starting Point\":\"Lotus Colony (6:45 am)\",\"Via\":\"Lotus Colony, K4 Police Station, Sixth Avenue (EB Office), 18th Main Road corner, West Depot, Thirumangalam, Koyambedu -Rohini Theater, Nerkundram, MGR University, Madhuravoil Ration Shop, Madhuravoil Market, Madhuravoil Bridge Signal, Venkatachalapathy Kalyana Mandapam, Vellappan Chavadi, Poonamalle -Byepass\"},{\"Route No\":12,\"Bus Route\":\"Thirumangalam signal\",\"Starting Point\":\"Thirumangalam signal (6:35 am)\",\"Via\":\"Thirumanagalam Signal -EB, Vivek\\\\u2019s , Collector Nagar, Golden Flats, Wavin, West Depot (Mugapair), State Bank, Madhuravoil Bridge, Venkatachalapathy Kalyana Mandapam, Vellappan Chavadi, Poonamalle -Byepass\"},{\"Route No\":13,\"Bus Route\":\"Lucas TVS\",\"Starting Point\":\"Lucas TVS (6:40 am)\",\"Via\":\"Lucas TVS, Korattur, Telephone Exchange, Dunlop, Canara Bank, Ambattur OT, Thirumullaivoil, Vaishnavi Nagar, Murugappa Polytechnic, Avadi B.S, Avadi Check Post, Ramarathna Theatre, Avadi Market, JB Estate, Murthy Nagar, Govarthanagiri, SA Polytechnic, Paruthipattu Bridge, Kaduvetti, Senneerkuppam -Bridge, Ponnamalle Bye pass\"},{\"Route No\":14,\"Bus Route\":\"Highcourt\",\"Starting Point\":\"Highcourt (6:30 am)\",\"Via\":\"High Court B.S, Central, Dhinathanthi, Ega Theatre, Taylors Road, Aminchikarai Market, Anna Nagar Arch, NSK Nagar, Panchali Amman Koil Arumbakkam, Koyambedu -Rohini Theater, Nerkundram, Madhuravoil Ration shop, Madhuravoil Market, Madhuravoil Bridge\\\\/Signal, Vengatachalapathy Kalyana Mandapam, Vellappan Chavadi, Poonamalle- Byepass\"},{\"Route No\":16,\"Bus Route\":\"Ayanavaram\",\"Starting Point\":\"Noor Hotel (6:35 am)\",\"Via\":\"Ayanavaram-Noor Hotel, Joint office, ICF, Villivakkam (Kalpana), Nadhamuni Theatre, Sidco Nagar, Lucas, Korattur, Korattur Police station, Telephone Exchange, Madhuravoil Bridge, Venkatachalapathy Kalyana Mandapam, Vellappan Chavadi, Poonamalle -Byepass\"},{\"Route No\":17,\"Bus Route\":\"MKB Nagar\",\"Starting Point\":\"MKB Nagar (6:15 am)\",\"Via\":\"MKB Nagar, Ambedkar College, Sharma Nagar, Moolakadai, Madhavaram Rountana, Retteri, Senthil Nagar, Anna Nagar West Depot, Koyambedu -Rohini Theater, Nerkundram, MGR University, Madhuravoil Ration Shop, Madhuravoil Market, Madhuravoil Bridge Signal, Venkatachalapathy Kalyana Mandapam, Vellappan Chavadi, Poonamalle -Byepass\"},{\"Route No\":20,\"Bus Route\":\"Thirumangalam signal\",\"Starting Point\":\"Thirumangalam signal (6:35 am)\",\"Via\":\"Thirumanagalam Signal -EB, Vivek\\\\u2019s , Collector Nagar, Golden Flats, Wavin, DAV School, 7H Bus Stop, Vellammal School, Nolambur Police Station, Nolambur Water Tank, West Depot (Mugapair), State Bank, Madhuravoil Bridge, Venkatachalapathy Kalyana Mandapam, Vellappan Chavadi, Poonamalle -Byepass\"},{\"Route No\":21,\"Bus Route\":\"Triplicane\",\"Starting Point\":\"Gosha Hospital (6:20 am)\",\"Via\":\"Gosha Hospital, Ratna Cafe, Ameermahal (Jam bazar), Royapettah Police Station, Llyods Raod, Music Academy, Alwarpet Bridge, Park Sheraton Hotel, Nandanam Signal, YMCA, Saidapet Subway, Chinna Malai (Court), Guindy-petrol bunk, Kathipara, Butt Road, Nandambakkam, Ramapuram, S& S, Sakthi Nagar, Porur, Ramachandra Hospital, Iyyappanthangal, Kattupakkam, Gumanchavadi, Sai baba\"},{\"Route No\":22,\"Bus Route\":\"Mylapore\",\"Starting Point\":\"Yellow Pages (6:35 am)\",\"Via\":\"Yellow Pages (Petrol Bunk), Luz Corner, Mylapore Tank, Mandaveli Post Office, Kalliapa Hospital, Adyar Gate, Kottur Puram, Guindy-Petrol bunk, Kathipara, Butt Road, Nandambakkam, Ramapuram, S& S, Sakthi Nagar, Porur, Ramachandra Hospital, Iyyappanthangal, Kattupakkam, Gumanchavadi, Sai baba Koil, Poonamalle By pass\"},{\"Route No\":23,\"Bus Route\":\"Santhome\",\"Starting Point\":\"Santhome Church (6:35 am)\",\"Via\":\"Santhome Church, Airtel Office, Mandaveli BS, Kalliapa Hospital, Adyar Gate, Kottur Puram, Guindy-Petrol Bunk, Kathipara, Butt Road, Nandambakkam, Ramapuram, S& S, Sakthi Nagar, Porur, Ramachandra Hospital, Iyyappanthangal, Kattupakkam, Gumanchavadi, Sai baba Koil, Poonamalle By pass\"},{\"Route No\":24,\"Bus Route\":\"Mylapore\",\"Starting Point\":\"Yellow Pages (6:35 am)\",\"Via\":\"Yellow Pages (Petrol Bunk), Luz Corner, Mylapore Tank, Mandaveli Post Office, Kalliapa Hospital, Adyar Gate, Kottur Puram, Guindy-Petrol bunk, Kathipara, Butt Road Nandambakkam, Ramapuram S & S, Sakthi Nagar, Porur, Ramachandra Hospital, Iyyappanthangal, Kattupakkam, Gumanchavadi, Sai baba Koil, Poonamalle By pass\"},{\"Route No\":25,\"Bus Route\":\"Chindaripet\",\"Starting Point\":\"Chindaripet Meen Market (6:30 am)\",\"Via\":\"Chindaripet-Meen Market (church), Albert rountana, Ashoka Hotel Circle, Rajarathnam stadium, Mount Road-Church Park school, Govt Eye Hospital, Ethiraj College, Jemini Bridge (Fast Food), DMS, SIET, Nandanam Signal, YMCA, Saidapet Subway, Chinna Malai (Court), Guindy-Petrol bunk, Kathipara, Butt Road, Nandambakkam, Ramapuram, S & S, Sakthi Nagar, Porur, Ramachandra Hospital,\"},{\"Route No\":27,\"Bus Route\":\"Besant Nagar\",\"Starting Point\":\"Pillaiyar Koil (6:35 am)\",\"Via\":\"Pillayar Koil, Vannanthurai, Indira nagar Police station, Adyar Signal, Sangeetha Hotel, IIT, Guindy-petrol bunk, Kathipara, Butt Road, Nandambakkam, Ramapuram, S& S, Sakthi Nagar, Porur, Ramachandra Hospital, Iyyappanthangal, Kattupakkam, Gumanchavadi, Sai baba Koil, Poonamalle By pass\"},{\"Route No\":28,\"Bus Route\":\"Tiruvanmiyur\",\"Starting Point\":\"Palavakkam (6:35 am)\",\"Via\":\"Palavakkam, Thiruvanmiyur RTO, Marutheeswarar Koil, Thiruvanmiyur Hot Chips, Jayanthi Theatre, Indra Nagar Tank Sangeetha Hotel, IIT, Guindy-petrol bunk, Kathipara, Butt Road, Nandambakkam, Ramapuram, S& S, Sakthi Nagar, Porur Ramachandra Hospital, Iyyappanthangal, Kattupakkam Gumanchavadi, Sai baba Koil, Poonamalle By pass\"},{\"Route No\":29,\"Bus Route\":\"Velachery\",\"Starting Point\":\"SRP Tools (6:35 am)\",\"Via\":\"SRP Tools, Tharamani, Baby Nagar, Vijaya Nagar BS, Dhandeeswarar Koil, Gurunanak College, Checkpost, Guindy Bus stop (Towards poonamalle) Kathipara, Butt Road, Nandambakkam, Ramapuram, S& S, Sakthi Nagar, Porur, Ramachandra Hospital, Iyyappanthangal, Kattupakkam, Gumanchavadi, Sai baba Koil, Poonamalle By pass\"},{\"Route No\":30,\"Bus Route\":\"Chrompet\",\"Starting Point\":\"MEPZ (6:40 am)\",\"Via\":\"MEPZ, MIT Gate, Chrompet, New Saravana Stores, Pallavaram Bus Stop, Aaduthotti, Krishna Nagar, Polichilur Cross Road, Pammal, Anagaputhur, Kundrathur Therady, New bye pass Cross, CIT,\"},{\"Route No\":31,\"Bus Route\":\"Madipakkam\",\"Starting Point\":\"Madipakkam Kaiveli (6:35 am)\",\"Via\":\"Madipakkam Kaiveli, Ram Nagar, Sadasivam Nagar, Balayya Garden, Ponniamman Koil, Ayyappan Koil, Madipakkam Koot Road, Kumaran Theatre, Vannuvampettai, Oil Mill, Jayalakshmi Theatre, St. Thomas Mount, Cement Road, Kathipara, Butt Road, Nandambakkam, Ramapuram, S& S, Sakthi Nagar, Porur, Ramachandra Hospital, Iyyappanthangal, Kattupakkam, Gumanchavadi, Sai baba Koil, Poonamallee\"},{\"Route No\":34,\"Bus Route\":\"Meenambakkam\",\"Starting Point\":\"Meenambakkam (6:40 am)\",\"Via\":\"Meenambakkam, Pallavaram Bus Stop, Aaduthotti, Krishna Nagar, Polichilur Cross Road, Pammal, Anagaputhur, Kundrathur Therady, New bye pass Cross, CIT\"},{\"Route No\":\"34M\",\"Bus Route\":\"Mangadu\",\"Starting Point\":\"Kolanchery Koot Road (7:00 am)\",\"Via\":\"Kolanchery Koot Road, Kovur Koot Road, Muthukuman college, Mangadu Malliga Theatre, Mangadu, Kumananchavadi, Karayanchavady EB, Seneerkuppam, Poonamalle Bye pass, Nazarathpet\"},{\"Route No\":36,\"Bus Route\":\"Medavakkam Koot Road\",\"Starting Point\":\"Medavakkam Koot Road (6:40 am)\",\"Via\":\"Medavakkam Koot road, Kamarajapuram, Poondy Bazar, Camp Road, East Tambaram, Tambaram Bridge, Krishna nagar, Mudichur, Mudichur Bye pass, Krishkinda, Somangalam\"},{\"Route No\":37,\"Bus Route\":\"Medavakkam\",\"Starting Point\":\"Kovilambakkam (6:25 am)\",\"Via\":\"Kovilambakkam -KVB, Veeramani Nagar, Kelkattalai, Ganesh Nagar, Madipakkam Koot Road, Padala Vignesh Vinayagar, Krishna Sweets, Oil Mill, Vanuvampettai, Nanganallur, Pazhavanthangal Rly Stn, Santhi Petrol Bunk, Kathipara, Butt Road, Nandambakkam, Ramapuram, S& S, Sakthi Nagar, Porur, Ramachandra Hospital, Iyyappanthangal, Kattupakkam, Gumanchavadi, Sai baba Koil, Poonamallee\"},{\"Route No\":39,\"Bus Route\":\"Guduvanchery\",\"Starting Point\":\"Maraimalai Nagar (6:35 am)\",\"Via\":\"Maraimalai Nagar, Urapakkam, Vandalur, Perungalathur, Tambaram Bridge, Krishna nagar, Mudichur, Mudichur Bye pass, Krishkinda, Somangalam\"},{\"Route No\":41,\"Bus Route\":\"Valluvar Kottam\",\"Starting Point\":\"Neel Metals ()\",\"Via\":\"Neel Metals, Periya road, Kodambakkam Bridge, Liberty, Gokulam Chits, Kodambakkam Power House, Ram Theatre, Vadapalani BS, Aavichi, Virugambakkam, Vembuliamman koil, Valasaravakkam, Kesavardhini, Alwarthirunagar, Porur, Ramachandra Hospital, Iyyappanthangal, Kattupakkam, Gumanchavadi, Sai baba Koil, Poonamalle By pass\"},{\"Route No\":42,\"Bus Route\":\"Ambal Nagar\",\"Starting Point\":\"CIPET (6:40 am)\",\"Via\":\"Ambal Nagar BS, Kasi Theatre, KK Nagar- ESI, KK Nagar Roundtana, PT Rajan Salai, Pondichery Guest House, Aavichi, Virugambakkam, Vembuliamman koil, Valasaravakkam, Kesavardhini, Alwarthirunagar, Porur, Ramachandra Hospital, Iyyappanthangal, Kattupakkam, Gumanchavadi, Sai baba Koil, Poonamalle By pass,\"},{\"Route No\":44,\"Bus Route\":\"T. Nagar\",\"Starting Point\":\"Nagesh Theatre (6:35 am)\",\"Via\":\"Nagesh Theatre, Rathna stores, Pondy Bazar, Duraisamy Sub-way, Arya Gowda Indian bank, Ayodhya Mandapam, Postal colony Bus stop, Seventh avenue Police booth, Eleventh avenue water tank (Pazha Mudir solai), Ashok Pillar,ESI,KK Nagar Rountana, Saravanabavan,Aavichi, Virugambakkam,Vembuliamman koil, Valasaravakkam,Kesavardhini, Alwarthirunagar,Porur, Ramachandra Hospital,Iyyappanthangal\"},{\"Route No\":45,\"Bus Route\":\"T. Nagar\",\"Starting Point\":\"Krishnaveni Theatre (6:40 am)\",\"Via\":\"Krishnaveni Theatre, CIT Nagar, Kaveri nagar, Aranganathar Sub way Up, Mettupalayam Lakshmi Hospital, Mettupalayam Bus stop, Srinivasa Theatre, Eleventh avenue water tank, Udayam theatre opposite, 100 feet road petrol bunk,, Lakshmi Surthi Opp, Kamala Theatre, Vadapalani BS, Aavichi, Virugambakkam, Vembuliamman koil, Valasaravakkam, Kesavardhini, Alwarthirunagar, Porur, Ramacha\"},{\"Route No\":46,\"Bus Route\":\"T. Nagar\",\"Starting Point\":\"Nagesh Theatre (6:35 am)\",\"Via\":\"Nagesh Theatre, Rathna stores, Pondy Bazar, Duraisamy Sub-way, Arya Gowda Indian bank, Ayodhya Mandapam, Postal colony Bus stop, Seventh avenue Police booth, Eleventh avenue water tank (Pazha Mudir solai), Ashok Pillar, ESI, KK Nagar Rountana, Saravanabavn house, Aavichi, Virugambakkam, Vembuliamman koil, Valasaravakkam, Kesavardhini, Alwarthirunagar, Porur, Ramachandra Hospita\"},{\"Route No\":47,\"Bus Route\":\"T. Nagar\",\"Starting Point\":\"Nagesh Theatre (6:35 am)\",\"Via\":\"Nagesh Theatre, Rathna stores, Pondy Bazar, Duraisamy Sub-way, Arya Gowda Indian bank, Ayodhya Mandapam, Postal colony Bus stop, Seventh avenue Police booth, Eleventh avenue water tank (Pazha Mudir solai), Ashok Pillar, ESI,KK Nagar Rountana, Saravanabavn house,Aavichi, Virugambakkam,Vembuliamman koil, Valasaravakkam,Kesavardhini, Alwarthirunagar, Porur,Ramachandra Hospital, Iyyapp\"},{\"Route No\":48,\"Bus Route\":\"T. Nagar\",\"Starting Point\":\"Vani Mahal (6:40 am)\",\"Via\":\"Vani Mahal, Bazulla Road, North Usman Road(Opp to Vasantha & Co), Vivek & Co, Mahalingapuram, MLM kalyana Mandapam, Loyala college, Soolai medu Vasanth & Co, NM Road-Metha Nagar (Pazha Mudir solai), Sky walk, Anna Nagar Arch, NSK Nagar, Panchali Amman Koil, Arumbakkam, Koyambedu -Rohini Theater , Nerkundram, Madhuravoil Ration shop, Madhuravoil Market, Madhuravoil Bridge\\\\/Signal,\"},{\"Route No\":50,\"Bus Route\":\"Vadapalini\",\"Starting Point\":\"Ambika Emporium (6:35 am)\",\"Via\":\"Ambika Emporium, MMDA, SAF Games, CMBT, Chinmaya Nagar, Sai Nagar, Natesa Nagar, Elango Nagar, Virugampakkam Market, Virugambakkam, Vembuliamman koil, Valasaravakkam, Kesavardhini, Alwarthirunagar, Porur, Ramachandra Hospital, Iyyappanthangal, Kattupakkam, Kumanchavadi, Sai baba Koil, Poonamalle By pass\"},{\"Route No\":51,\"Bus Route\":\"T. Nagar\",\"Starting Point\":\"Vani Mahal (6:40 am)\",\"Via\":\"Vani Mahal, Bazulla Road, North Usman Road(Opp to Vasantha & Co), Vivek & Co, Mahalingapuram, MLM kalyana Mandapam, Loyala college, Soolai medu Vasanth & Co, NM Road-Metha Nagar (Pazha Mudir solai), Sky walk, Anna Nagar Arch, NSK Nagar, Panchali Amman Koil Arumbakkam, Koyambedu -Rohini Theater, Nerkundram, Madhuravoil Ration shop, Madhuravoil Market, Madhuravoil Bridge\\\\/Signal,\"},{\"Route No\":52,\"Bus Route\":\"Valluvar Kottam\",\"Starting Point\":\"Anna Statue (6:40 am)\",\"Via\":\"Neel Metals, Periya road, Kodambakkam Bridge, Liberty, Gokulam Chits, Kodambakkam Power House, Ram Theatre, Vadapalani BS, Aavichi, Virugambakkam, Vembuliamman koil, Valasaravakkam, Kesavardhini, Alwarthirunagar, Porur, Ramachandra Hospital, Iyyappanthangal, Kattupakkam, Gumanchavadi, Sai baba Koil, Poonamalle By pass\"},{\"Route No\":55,\"Bus Route\":\"Porur\",\"Starting Point\":\"Sakthi Nagar (7:00 am)\",\"Via\":\"Sakthi Nagar, Porur, Ramachandra Hospital, Iyyappanthangal, Kattupakkam, Gumanchavadi, Sai baba Koil, Poonamalle By pass, NazarathpetPettai\"},{\"Route No\":\"55A\",\"Bus Route\":\"Paikadai\",\"Starting Point\":\"Kolanchery Koot Road (6:45 am)\",\"Via\":\"Kolanchery Koot Road, Moondarm Kattalai, Madha Medical College, Kovur Bus Stand, Periyapannaichery, Gerugambakkam, Paikadai, Porur, Ramachandra Hospital, Iyyappanthangal, Kattupakkam, Gumanchavadi, Sai baba Koil, Poonamalle By pass, Nazarathpet\"},{\"Route No\":56,\"Bus Route\":\"Kancheepuram\",\"Starting Point\":\"Housing Board (6:50 am)\",\"Via\":\"Housing Board, Collector Office, Mettu Street, Mongil Mandapam, Bus Stand (Saraswathi Stores), Kachabeeswarar Koil, Ekambareaswarar Koil, Vella gate, Meenakshi Hospital, Sriperumbudur High School,\"},{\"Route No\":57,\"Bus Route\":\"Kanchipuram\",\"Starting Point\":\"Housing board (6:50 am)\",\"Via\":\"Housing Board, Collector Office, Mettu Street, Mongil Mandapam, Bus Stand (Saraswathi Stores), Kachabeeswarar Koil, Ekambareaswarar Koil, Vella gate, Meenakshi Hospital, Sriperumbudur High School\"},{\"Route No\":58,\"Bus Route\":\"Kancheepuram\",\"Starting Point\":\"Periyar Nagar (6:35 am)\",\"Via\":\"Periyar Nagar, Toll Gate, Chetty Street, Rangasamy Kulam, Keera Mandapam, Mettu Street, Mongil Mandapam , Bus Stand (Saraswathi Stores), Kachabeeswarar Koil, Ekambareaswarar Koil, Vellagate, Meenakshi Hospital, Sunguvar Chatram, Sriperumbudur High School\"},{\"Route No\":60,\"Bus Route\":\"Thiruvallur\",\"Starting Point\":\"Gandhi Nagar BS (6:35 am)\",\"Via\":\"Gandhi Nagar BS, Jaya School, DR Chit Funds, Thiruninravur Bridge, Murugan Koil, Tata Steels, Vemppampattu BS, Vemppampattu Rly Station, Kakkalur, Kakkalur Bye pass, Thiruvallur Petrol Bunk, LIC, GRT, Manavala Nagar, Ondikuppam, Aran Voil, Aran Voil Kuppam, Pudhu Chatram, Nemam, Vellavedu, Thirumazhisai\"}]'"
      ]
     },
     "execution_count": 9,
     "metadata": {},
     "output_type": "execute_result"
    }
   ],
   "source": [
    "json_str"
   ]
  },
  {
   "cell_type": "code",
   "execution_count": null,
   "metadata": {},
   "outputs": [],
   "source": []
  },
  {
   "cell_type": "code",
   "execution_count": null,
   "metadata": {},
   "outputs": [],
   "source": []
  }
 ],
 "metadata": {
  "kernelspec": {
   "display_name": "Python 3",
   "language": "python",
   "name": "python3"
  },
  "language_info": {
   "codemirror_mode": {
    "name": "ipython",
    "version": 3
   },
   "file_extension": ".py",
   "mimetype": "text/x-python",
   "name": "python",
   "nbconvert_exporter": "python",
   "pygments_lexer": "ipython3",
   "version": "3.8.5"
  }
 },
 "nbformat": 4,
 "nbformat_minor": 4
}
