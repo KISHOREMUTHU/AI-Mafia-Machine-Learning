{
 "cells": [
  {
   "cell_type": "code",
   "execution_count": 1,
   "id": "surrounded-advance",
   "metadata": {},
   "outputs": [],
   "source": [
    "from nltk.corpus import brown"
   ]
  },
  {
   "cell_type": "code",
   "execution_count": 2,
   "id": "identical-germany",
   "metadata": {},
   "outputs": [
    {
     "name": "stderr",
     "output_type": "stream",
     "text": [
      "[nltk_data] Downloading package brown to\n",
      "[nltk_data]     C:\\Users\\dell\\AppData\\Roaming\\nltk_data...\n",
      "[nltk_data]   Package brown is already up-to-date!\n",
      "[nltk_data] Downloading package punkt to\n",
      "[nltk_data]     C:\\Users\\dell\\AppData\\Roaming\\nltk_data...\n",
      "[nltk_data]   Package punkt is already up-to-date!\n"
     ]
    },
    {
     "data": {
      "text/plain": [
       "True"
      ]
     },
     "execution_count": 2,
     "metadata": {},
     "output_type": "execute_result"
    }
   ],
   "source": [
    "# data collection\n",
    "import nltk\n",
    "nltk.download('brown')\n",
    "nltk.download('punkt')"
   ]
  },
  {
   "cell_type": "code",
   "execution_count": 3,
   "id": "consolidated-revelation",
   "metadata": {},
   "outputs": [
    {
     "name": "stdout",
     "output_type": "stream",
     "text": [
      "['adventure', 'belles_lettres', 'editorial', 'fiction', 'government', 'hobbies', 'humor', 'learned', 'lore', 'mystery', 'news', 'religion', 'reviews', 'romance', 'science_fiction']\n"
     ]
    }
   ],
   "source": [
    "print(brown.categories())"
   ]
  },
  {
   "cell_type": "code",
   "execution_count": 4,
   "id": "recent-adams",
   "metadata": {},
   "outputs": [
    {
     "name": "stdout",
     "output_type": "stream",
     "text": [
      "[['Assembly', 'session', 'brought', 'much', 'good'], ['The', 'General', 'Assembly', ',', 'which', 'adjourns', 'today', ',', 'has', 'performed', 'in', 'an', 'atmosphere', 'of', 'crisis', 'and', 'struggle', 'from', 'the', 'day', 'it', 'convened', '.'], ...]\n",
      "<class 'nltk.corpus.reader.util.ConcatenatedCorpusView'>\n",
      "2997\n"
     ]
    }
   ],
   "source": [
    "data = brown.sents(categories = 'editorial')\n",
    "print(data)\n",
    "print(type(data) )\n",
    "print(len(data))"
   ]
  },
  {
   "cell_type": "code",
   "execution_count": 5,
   "id": "balanced-cabin",
   "metadata": {},
   "outputs": [],
   "source": [
    "#tokenisation and stopword removal\n",
    "\n"
   ]
  },
  {
   "cell_type": "code",
   "execution_count": 6,
   "id": "polished-shift",
   "metadata": {},
   "outputs": [],
   "source": [
    "from nltk.tokenize import sent_tokenize , word_tokenize\n",
    "text = \"A very pleasant day and it's cool to go for a jog .\"\n"
   ]
  },
  {
   "cell_type": "code",
   "execution_count": 7,
   "id": "likely-jordan",
   "metadata": {},
   "outputs": [
    {
     "name": "stdout",
     "output_type": "stream",
     "text": [
      "[\"A very pleasant day and it's cool to go for a jog .\"]\n"
     ]
    }
   ],
   "source": [
    "sents = sent_tokenize(text)\n",
    "print(sents)"
   ]
  },
  {
   "cell_type": "code",
   "execution_count": 8,
   "id": "engaged-corporation",
   "metadata": {},
   "outputs": [
    {
     "name": "stdout",
     "output_type": "stream",
     "text": [
      "['a', 'very', 'pleasant', 'day', 'and', 'it', \"'s\", 'cool', 'to', 'go', 'for', 'a', 'jog', '.']\n"
     ]
    }
   ],
   "source": [
    "word_list = word_tokenize(sents[0].lower())\n",
    "print(word_list)"
   ]
  },
  {
   "cell_type": "code",
   "execution_count": 9,
   "id": "aerial-packet",
   "metadata": {},
   "outputs": [
    {
     "name": "stderr",
     "output_type": "stream",
     "text": [
      "[nltk_data] Downloading package stopwords to\n",
      "[nltk_data]     C:\\Users\\dell\\AppData\\Roaming\\nltk_data...\n",
      "[nltk_data]   Package stopwords is already up-to-date!\n"
     ]
    },
    {
     "data": {
      "text/plain": [
       "True"
      ]
     },
     "execution_count": 9,
     "metadata": {},
     "output_type": "execute_result"
    }
   ],
   "source": [
    "# stopwords removal\n",
    "from nltk.corpus import stopwords\n",
    "import nltk\n",
    "nltk.download('stopwords')"
   ]
  },
  {
   "cell_type": "code",
   "execution_count": 10,
   "id": "induced-final",
   "metadata": {},
   "outputs": [
    {
     "name": "stdout",
     "output_type": "stream",
     "text": [
      "{'over', 'against', 'when', 'has', 'until', 'too', 'very', 'each', 'between', 'am', \"hasn't\", 'were', 'to', 'all', 'been', 'be', 'whom', 'ma', 'through', 'the', \"mustn't\", 'further', 'now', \"wouldn't\", 'himself', 'same', \"it's\", 'other', 'd', 'they', 'out', \"mightn't\", 'you', 'its', 'an', 'll', 's', 'these', 'which', 'wasn', 'mustn', \"that'll\", \"wasn't\", 'them', 'because', 'will', 'here', 'this', 't', 'did', 'do', \"isn't\", 'isn', 'then', 'have', 'doing', 'as', 'how', 'mightn', 'who', 'her', 'or', 'most', 'so', 'than', \"should've\", 'i', 'by', \"aren't\", \"shan't\", \"don't\", 'no', \"doesn't\", 'again', 'just', 'their', 'hers', \"you'll\", \"she's\", 'into', 'below', 'on', 'that', 'we', 'if', 'above', 'off', 'ain', 'didn', 'does', 'had', 'ourselves', 'both', 've', 'yourself', 'where', 'myself', 'few', 'herself', 'don', 'should', \"you'd\", 'and', 'wouldn', 'once', 'y', 'down', 'my', 'can', 'a', \"won't\", 'while', 'doesn', \"you're\", 'hadn', 'ours', 'for', 'being', 'nor', 'those', 'about', 'm', \"shouldn't\", 'your', 'before', 'needn', 'theirs', \"haven't\", 'it', 'from', 'in', 'why', 'at', 'any', 'aren', 'own', 'shouldn', 're', 'yours', 'is', 'she', 'after', \"needn't\", 'what', \"weren't\", \"didn't\", \"you've\", 'of', 'shan', 'are', 'having', 'hasn', 'but', 'only', 'was', 'me', 'during', 'yourselves', 'themselves', 'under', 'his', 'such', \"couldn't\", 'up', 'itself', \"hadn't\", 'there', 'couldn', 'won', 'weren', 'some', 'he', 'not', 'him', 'haven', 'our', 'o', 'with', 'more'} 179\n"
     ]
    }
   ],
   "source": [
    "sw = set(stopwords.words('english'))\n",
    "print(sw,len(sw))"
   ]
  },
  {
   "cell_type": "code",
   "execution_count": 11,
   "id": "unexpected-blade",
   "metadata": {},
   "outputs": [],
   "source": [
    "# filter the stopwords \n",
    "def filter_words(word_list) :\n",
    "    sw = set(stopwords.words('english'))\n",
    "    useful_words = [w for w in word_list if w  not in sw]\n",
    "    return useful_words"
   ]
  },
  {
   "cell_type": "code",
   "execution_count": 12,
   "id": "worse-malta",
   "metadata": {},
   "outputs": [
    {
     "name": "stdout",
     "output_type": "stream",
     "text": [
      "['pleasant', 'day', \"'s\", 'cool', 'go', 'jog', '.']\n"
     ]
    }
   ],
   "source": [
    "useful = filter_words(word_list)\n",
    "print(useful)"
   ]
  },
  {
   "cell_type": "code",
   "execution_count": 13,
   "id": "interior-winner",
   "metadata": {},
   "outputs": [],
   "source": [
    "from nltk.tokenize import RegexpTokenizer\n"
   ]
  },
  {
   "cell_type": "code",
   "execution_count": 14,
   "id": "removed-indie",
   "metadata": {},
   "outputs": [
    {
     "name": "stdout",
     "output_type": "stream",
     "text": [
      "['find', 'out', 'the', 'alphabets']\n"
     ]
    }
   ],
   "source": [
    "token = RegexpTokenizer(\"[a-z0-9]+\")\n",
    "sent = \"find out the alphabets\"\n",
    "print(token.tokenize(sent))"
   ]
  },
  {
   "cell_type": "code",
   "execution_count": null,
   "id": "binary-client",
   "metadata": {},
   "outputs": [],
   "source": []
  },
  {
   "cell_type": "code",
   "execution_count": null,
   "id": "spare-organization",
   "metadata": {},
   "outputs": [],
   "source": []
  },
  {
   "cell_type": "code",
   "execution_count": 17,
   "id": "individual-assault",
   "metadata": {},
   "outputs": [
    {
     "name": "stdout",
     "output_type": "stream",
     "text": [
      "['the', 'quick', 'brown', 'fox', 'was', 'seen', 'jumping', 'over', 'the', 'lazy', 'dog', 'from', 'high', 'wall', 'foxes', 'love', 'to', 'make', 'jumps']\n"
     ]
    }
   ],
   "source": [
    "text = 'the quick brown fox was seen jumping over the lazy dog from high wall . Foxes love to make jumps .'\n",
    "print(token.tokenize(text.lower()))"
   ]
  },
  {
   "cell_type": "code",
   "execution_count": 18,
   "id": "detailed-engine",
   "metadata": {},
   "outputs": [],
   "source": [
    "# Types of stemmers \n",
    "# 1 . Snowball stemmer \n",
    "# 2 . Porter stemmer \n",
    "# 3 . Lancaster stemmer\n",
    "from nltk.stem.snowball import PorterStemmer, SnowballStemmer\n",
    "from nltk.stem.lancaster import LancasterStemmer\n",
    "\n"
   ]
  },
  {
   "cell_type": "code",
   "execution_count": 19,
   "id": "cellular-destiny",
   "metadata": {},
   "outputs": [
    {
     "data": {
      "text/plain": [
       "'jump'"
      ]
     },
     "execution_count": 19,
     "metadata": {},
     "output_type": "execute_result"
    }
   ],
   "source": [
    "ps = PorterStemmer() \n",
    "ps.stem('jumping') "
   ]
  },
  {
   "cell_type": "code",
   "execution_count": 22,
   "id": "backed-chemical",
   "metadata": {},
   "outputs": [
    {
     "data": {
      "text/plain": [
       "'awe'"
      ]
     },
     "execution_count": 22,
     "metadata": {},
     "output_type": "execute_result"
    }
   ],
   "source": [
    "ps.stem('aweful') "
   ]
  },
  {
   "cell_type": "code",
   "execution_count": null,
   "id": "primary-elevation",
   "metadata": {},
   "outputs": [],
   "source": []
  }
 ],
 "metadata": {
  "kernelspec": {
   "display_name": "Python 3",
   "language": "python",
   "name": "python3"
  },
  "language_info": {
   "codemirror_mode": {
    "name": "ipython",
    "version": 3
   },
   "file_extension": ".py",
   "mimetype": "text/x-python",
   "name": "python",
   "nbconvert_exporter": "python",
   "pygments_lexer": "ipython3",
   "version": "3.9.1"
  }
 },
 "nbformat": 4,
 "nbformat_minor": 5
}
