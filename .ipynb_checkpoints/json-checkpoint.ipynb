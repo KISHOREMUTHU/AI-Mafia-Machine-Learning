{
 "cells": [
  {
   "cell_type": "code",
   "execution_count": 1,
   "metadata": {},
   "outputs": [],
   "source": [
    "import numpy as np\n",
    "import pandas as pd\n",
    "from collections import OrderedDict\n",
    "import simplejson as json\n",
    "import json"
   ]
  },
  {
   "cell_type": "code",
   "execution_count": 2,
   "metadata": {},
   "outputs": [],
   "source": [
    "#df = pd.read_csv(r'C:\\Users\\dell\\Downloads\\Copy of Subscription_list.csv.csv')"
   ]
  },
  {
   "cell_type": "code",
   "execution_count": null,
   "metadata": {},
   "outputs": [],
   "source": []
  },
  {
   "cell_type": "code",
   "execution_count": 3,
   "metadata": {},
   "outputs": [],
   "source": [
    "import xlrd"
   ]
  },
  {
   "cell_type": "code",
   "execution_count": null,
   "metadata": {},
   "outputs": [],
   "source": [
    "\n"
   ]
  },
  {
   "cell_type": "code",
   "execution_count": null,
   "metadata": {},
   "outputs": [],
   "source": []
  },
  {
   "cell_type": "code",
   "execution_count": null,
   "metadata": {},
   "outputs": [],
   "source": []
  },
  {
   "cell_type": "code",
   "execution_count": 4,
   "metadata": {},
   "outputs": [],
   "source": [
    "import json\n",
    "from collections import OrderedDict\n",
    "from itertools import islice\n",
    "from openpyxl import load_workbook"
   ]
  },
  {
   "cell_type": "code",
   "execution_count": 5,
   "metadata": {},
   "outputs": [],
   "source": [
    "from sheet2dict import Worksheet"
   ]
  },
  {
   "cell_type": "code",
   "execution_count": 6,
   "metadata": {},
   "outputs": [],
   "source": [
    "import excel2json\n",
    "\n",
    "#excel2json.convert_from_file('C:/Users/dell/Downloads/subscription.xlsx')"
   ]
  },
  {
   "cell_type": "code",
   "execution_count": null,
   "metadata": {},
   "outputs": [],
   "source": [
    "\n"
   ]
  },
  {
   "cell_type": "code",
   "execution_count": null,
   "metadata": {},
   "outputs": [],
   "source": []
  },
  {
   "cell_type": "code",
   "execution_count": null,
   "metadata": {},
   "outputs": [],
   "source": [
    "\n"
   ]
  },
  {
   "cell_type": "code",
   "execution_count": null,
   "metadata": {},
   "outputs": [],
   "source": []
  },
  {
   "cell_type": "code",
   "execution_count": null,
   "metadata": {},
   "outputs": [],
   "source": []
  },
  {
   "cell_type": "code",
   "execution_count": null,
   "metadata": {},
   "outputs": [],
   "source": []
  },
  {
   "cell_type": "code",
   "execution_count": null,
   "metadata": {},
   "outputs": [],
   "source": []
  },
  {
   "cell_type": "code",
   "execution_count": 7,
   "metadata": {},
   "outputs": [],
   "source": [
    "excel_data_df = pd.read_excel(r'C:/Users/dell/Downloads/notes_link.xlsx')"
   ]
  },
  {
   "cell_type": "code",
   "execution_count": 8,
   "metadata": {},
   "outputs": [],
   "source": [
    "json_str = excel_data_df.to_json(orient='records')"
   ]
  },
  {
   "cell_type": "code",
   "execution_count": 9,
   "metadata": {},
   "outputs": [
    {
     "data": {
      "text/plain": [
       "'[{\"Department\":\"Applied Chemistry\",\"Semester\":1,\"Notes Link \":\"https:\\\\/\\\\/www.temporary-url.com\\\\/A28B\"},{\"Department\":\"Applied Chemistry\",\"Semester\":2,\"Notes Link \":\"https:\\\\/\\\\/www.temporary-url.com\\\\/A28B\"},{\"Department\":\"Applied Chemistry\",\"Semester\":3,\"Notes Link \":\"https:\\\\/\\\\/www.temporary-url.com\\\\/A28B\"},{\"Department\":\"Applied Chemistry\",\"Semester\":4,\"Notes Link \":\"https:\\\\/\\\\/www.temporary-url.com\\\\/A28B\"},{\"Department\":\"Applied Chemistry\",\"Semester\":5,\"Notes Link \":\"https:\\\\/\\\\/www.temporary-url.com\\\\/A28B\"},{\"Department\":\"Applied Chemistry\",\"Semester\":6,\"Notes Link \":\"https:\\\\/\\\\/www.temporary-url.com\\\\/A28B\"},{\"Department\":\"Applied Chemistry\",\"Semester\":7,\"Notes Link \":\"https:\\\\/\\\\/www.temporary-url.com\\\\/A28B\"},{\"Department\":\"Applied Chemistry\",\"Semester\":7,\"Notes Link \":\"https:\\\\/\\\\/www.temporary-url.com\\\\/A28B\"},{\"Department\":\"Applied Chemistry\",\"Semester\":8,\"Notes Link \":\"https:\\\\/\\\\/www.temporary-url.com\\\\/A28B\"},{\"Department\":\"Applied Maths\",\"Semester\":1,\"Notes Link \":\"https:\\\\/\\\\/www.temporary-url.com\\\\/A28B\"},{\"Department\":\"Applied Maths\",\"Semester\":2,\"Notes Link \":\"https:\\\\/\\\\/www.temporary-url.com\\\\/A28B\"},{\"Department\":\"Applied Maths\",\"Semester\":3,\"Notes Link \":\"https:\\\\/\\\\/www.temporary-url.com\\\\/A28B\"},{\"Department\":\"Applied Maths\",\"Semester\":4,\"Notes Link \":\"https:\\\\/\\\\/www.temporary-url.com\\\\/A28B\"},{\"Department\":\"Applied Maths\",\"Semester\":5,\"Notes Link \":\"https:\\\\/\\\\/www.temporary-url.com\\\\/A28B\"},{\"Department\":\"Applied Maths\",\"Semester\":6,\"Notes Link \":\"https:\\\\/\\\\/www.temporary-url.com\\\\/A28B\"},{\"Department\":\"Applied Maths\",\"Semester\":7,\"Notes Link \":\"https:\\\\/\\\\/www.temporary-url.com\\\\/A28B\"},{\"Department\":\"Applied Maths\",\"Semester\":7,\"Notes Link \":\"https:\\\\/\\\\/www.temporary-url.com\\\\/A28B\"},{\"Department\":\"Applied Maths\",\"Semester\":8,\"Notes Link \":\"https:\\\\/\\\\/www.temporary-url.com\\\\/A28B\"},{\"Department\":\"Applied Physics\",\"Semester\":1,\"Notes Link \":\"https:\\\\/\\\\/www.temporary-url.com\\\\/A28B\"},{\"Department\":\"Applied Physics\",\"Semester\":2,\"Notes Link \":\"https:\\\\/\\\\/www.temporary-url.com\\\\/A28B\"},{\"Department\":\"Applied Physics\",\"Semester\":3,\"Notes Link \":\"https:\\\\/\\\\/www.temporary-url.com\\\\/A28B\"},{\"Department\":\"Applied Physics\",\"Semester\":4,\"Notes Link \":\"https:\\\\/\\\\/www.temporary-url.com\\\\/A28B\"},{\"Department\":\"Applied Physics\",\"Semester\":5,\"Notes Link \":\"https:\\\\/\\\\/www.temporary-url.com\\\\/A28B\"},{\"Department\":\"Applied Physics\",\"Semester\":6,\"Notes Link \":\"https:\\\\/\\\\/www.temporary-url.com\\\\/A28B\"},{\"Department\":\"Applied Physics\",\"Semester\":7,\"Notes Link \":\"https:\\\\/\\\\/www.temporary-url.com\\\\/A28B\"},{\"Department\":\"Applied Physics\",\"Semester\":7,\"Notes Link \":\"https:\\\\/\\\\/www.temporary-url.com\\\\/A28B\"},{\"Department\":\"Applied Physics\",\"Semester\":8,\"Notes Link \":\"https:\\\\/\\\\/www.temporary-url.com\\\\/A28B\"},{\"Department\":\"Automobile Engineering\",\"Semester\":1,\"Notes Link \":\"https:\\\\/\\\\/www.temporary-url.com\\\\/A28B\"},{\"Department\":\"Automobile Engineering\",\"Semester\":2,\"Notes Link \":\"https:\\\\/\\\\/www.temporary-url.com\\\\/A28B\"},{\"Department\":\"Automobile Engineering\",\"Semester\":3,\"Notes Link \":\"https:\\\\/\\\\/www.temporary-url.com\\\\/A28B\"},{\"Department\":\"Automobile Engineering\",\"Semester\":4,\"Notes Link \":\"https:\\\\/\\\\/www.temporary-url.com\\\\/A28B\"},{\"Department\":\"Automobile Engineering\",\"Semester\":5,\"Notes Link \":\"https:\\\\/\\\\/www.temporary-url.com\\\\/A28B\"},{\"Department\":\"Automobile Engineering\",\"Semester\":6,\"Notes Link \":\"https:\\\\/\\\\/www.temporary-url.com\\\\/A28B\"},{\"Department\":\"Automobile Engineering\",\"Semester\":7,\"Notes Link \":\"https:\\\\/\\\\/www.temporary-url.com\\\\/A28B\"},{\"Department\":\"Automobile Engineering\",\"Semester\":7,\"Notes Link \":\"https:\\\\/\\\\/www.temporary-url.com\\\\/A28B\"},{\"Department\":\"Automobile Engineering\",\"Semester\":8,\"Notes Link \":\"https:\\\\/\\\\/www.temporary-url.com\\\\/A28B\"},{\"Department\":\"Biotechnology\",\"Semester\":1,\"Notes Link \":\"https:\\\\/\\\\/www.temporary-url.com\\\\/A28B\"},{\"Department\":\"Biotechnology\",\"Semester\":2,\"Notes Link \":\"https:\\\\/\\\\/www.temporary-url.com\\\\/A28B\"},{\"Department\":\"Biotechnology\",\"Semester\":3,\"Notes Link \":\"https:\\\\/\\\\/www.temporary-url.com\\\\/A28B\"},{\"Department\":\"Biotechnology\",\"Semester\":4,\"Notes Link \":\"https:\\\\/\\\\/www.temporary-url.com\\\\/A28B\"},{\"Department\":\"Biotechnology\",\"Semester\":5,\"Notes Link \":\"https:\\\\/\\\\/www.temporary-url.com\\\\/A28B\"},{\"Department\":\"Biotechnology\",\"Semester\":6,\"Notes Link \":\"https:\\\\/\\\\/www.temporary-url.com\\\\/A28B\"},{\"Department\":\"Biotechnology\",\"Semester\":7,\"Notes Link \":\"https:\\\\/\\\\/www.temporary-url.com\\\\/A28B\"},{\"Department\":\"Biotechnology\",\"Semester\":7,\"Notes Link \":\"https:\\\\/\\\\/www.temporary-url.com\\\\/A28B\"},{\"Department\":\"Biotechnology\",\"Semester\":8,\"Notes Link \":\"https:\\\\/\\\\/www.temporary-url.com\\\\/A28B\"},{\"Department\":\"Chemical Engineering\",\"Semester\":1,\"Notes Link \":\"https:\\\\/\\\\/www.temporary-url.com\\\\/A28B\"},{\"Department\":\"Chemical Engineering\",\"Semester\":2,\"Notes Link \":\"https:\\\\/\\\\/www.temporary-url.com\\\\/A28B\"},{\"Department\":\"Chemical Engineering\",\"Semester\":3,\"Notes Link \":\"https:\\\\/\\\\/www.temporary-url.com\\\\/A28B\"},{\"Department\":\"Chemical Engineering\",\"Semester\":4,\"Notes Link \":\"https:\\\\/\\\\/www.temporary-url.com\\\\/A28B\"},{\"Department\":\"Chemical Engineering\",\"Semester\":5,\"Notes Link \":\"https:\\\\/\\\\/www.temporary-url.com\\\\/A28B\"},{\"Department\":\"Chemical Engineering\",\"Semester\":6,\"Notes Link \":\"https:\\\\/\\\\/www.temporary-url.com\\\\/A28B\"},{\"Department\":\"Chemical Engineering\",\"Semester\":7,\"Notes Link \":\"https:\\\\/\\\\/www.temporary-url.com\\\\/A28B\"},{\"Department\":\"Chemical Engineering\",\"Semester\":7,\"Notes Link \":\"https:\\\\/\\\\/www.temporary-url.com\\\\/A28B\"},{\"Department\":\"Chemical Engineering\",\"Semester\":8,\"Notes Link \":\"https:\\\\/\\\\/www.temporary-url.com\\\\/A28B\"},{\"Department\":\"Civil Engineering\",\"Semester\":1,\"Notes Link \":\"https:\\\\/\\\\/www.temporary-url.com\\\\/A28B\"},{\"Department\":\"Civil Engineering\",\"Semester\":2,\"Notes Link \":\"https:\\\\/\\\\/www.temporary-url.com\\\\/A28B\"},{\"Department\":\"Civil Engineering\",\"Semester\":3,\"Notes Link \":\"https:\\\\/\\\\/www.temporary-url.com\\\\/A28B\"},{\"Department\":\"Civil Engineering\",\"Semester\":4,\"Notes Link \":\"https:\\\\/\\\\/www.temporary-url.com\\\\/A28B\"},{\"Department\":\"Civil Engineering\",\"Semester\":5,\"Notes Link \":\"https:\\\\/\\\\/www.temporary-url.com\\\\/A28B\"},{\"Department\":\"Civil Engineering\",\"Semester\":6,\"Notes Link \":\"https:\\\\/\\\\/www.temporary-url.com\\\\/A28B\"},{\"Department\":\"Civil Engineering\",\"Semester\":7,\"Notes Link \":\"https:\\\\/\\\\/www.temporary-url.com\\\\/A28B\"},{\"Department\":\"Civil Engineering\",\"Semester\":7,\"Notes Link \":\"https:\\\\/\\\\/www.temporary-url.com\\\\/A28B\"},{\"Department\":\"Civil Engineering\",\"Semester\":8,\"Notes Link \":\"https:\\\\/\\\\/www.temporary-url.com\\\\/A28B\"},{\"Department\":\"Computer Science Engineering\",\"Semester\":1,\"Notes Link \":\"https:\\\\/\\\\/www.temporary-url.com\\\\/A28B\"},{\"Department\":\"Computer Science Engineering\",\"Semester\":2,\"Notes Link \":\"https:\\\\/\\\\/www.temporary-url.com\\\\/A28B\"},{\"Department\":\"Computer Science Engineering\",\"Semester\":3,\"Notes Link \":\"https:\\\\/\\\\/www.temporary-url.com\\\\/A28B\"},{\"Department\":\"Computer Science Engineering\",\"Semester\":4,\"Notes Link \":\"https:\\\\/\\\\/www.temporary-url.com\\\\/A28B\"},{\"Department\":\"Computer Science Engineering\",\"Semester\":5,\"Notes Link \":\"https:\\\\/\\\\/www.temporary-url.com\\\\/A28B\"},{\"Department\":\"Computer Science Engineering\",\"Semester\":6,\"Notes Link \":\"https:\\\\/\\\\/www.temporary-url.com\\\\/A28B\"},{\"Department\":\"Computer Science Engineering\",\"Semester\":7,\"Notes Link \":\"https:\\\\/\\\\/www.temporary-url.com\\\\/A28B\"},{\"Department\":\"Computer Science Engineering\",\"Semester\":7,\"Notes Link \":\"https:\\\\/\\\\/www.temporary-url.com\\\\/A28B\"},{\"Department\":\"Computer Science Engineering\",\"Semester\":8,\"Notes Link \":\"https:\\\\/\\\\/www.temporary-url.com\\\\/A28B\"},{\"Department\":\"Electrical and Electronics Engineering\",\"Semester\":1,\"Notes Link \":\"https:\\\\/\\\\/www.temporary-url.com\\\\/A28B\"},{\"Department\":\"Electrical and Electronics Engineering\",\"Semester\":2,\"Notes Link \":\"https:\\\\/\\\\/www.temporary-url.com\\\\/A28B\"},{\"Department\":\"Electrical and Electronics Engineering\",\"Semester\":3,\"Notes Link \":\"https:\\\\/\\\\/www.temporary-url.com\\\\/A28B\"},{\"Department\":\"Electrical and Electronics Engineering\",\"Semester\":4,\"Notes Link \":\"https:\\\\/\\\\/www.temporary-url.com\\\\/A28B\"},{\"Department\":\"Electrical and Electronics Engineering\",\"Semester\":5,\"Notes Link \":\"https:\\\\/\\\\/www.temporary-url.com\\\\/A28B\"},{\"Department\":\"Electrical and Electronics Engineering\",\"Semester\":6,\"Notes Link \":\"https:\\\\/\\\\/www.temporary-url.com\\\\/A28B\"},{\"Department\":\"Electrical and Electronics Engineering\",\"Semester\":7,\"Notes Link \":\"https:\\\\/\\\\/www.temporary-url.com\\\\/A28B\"},{\"Department\":\"Electrical and Electronics Engineering\",\"Semester\":7,\"Notes Link \":\"https:\\\\/\\\\/www.temporary-url.com\\\\/A28B\"},{\"Department\":\"Electrical and Electronics Engineering\",\"Semester\":8,\"Notes Link \":\"https:\\\\/\\\\/www.temporary-url.com\\\\/A28B\"},{\"Department\":\"Electronics and Communication Engineering\",\"Semester\":1,\"Notes Link \":\"https:\\\\/\\\\/www.temporary-url.com\\\\/A28B\"},{\"Department\":\"Electronics and Communication Engineering\",\"Semester\":2,\"Notes Link \":\"https:\\\\/\\\\/www.temporary-url.com\\\\/A28B\"},{\"Department\":\"Electronics and Communication Engineering\",\"Semester\":3,\"Notes Link \":\"https:\\\\/\\\\/www.temporary-url.com\\\\/A28B\"},{\"Department\":\"Electronics and Communication Engineering\",\"Semester\":4,\"Notes Link \":\"https:\\\\/\\\\/www.temporary-url.com\\\\/A28B\"},{\"Department\":\"Electronics and Communication Engineering\",\"Semester\":5,\"Notes Link \":\"https:\\\\/\\\\/www.temporary-url.com\\\\/A28B\"},{\"Department\":\"Electronics and Communication Engineering\",\"Semester\":6,\"Notes Link \":\"https:\\\\/\\\\/www.temporary-url.com\\\\/A28B\"},{\"Department\":\"Electronics and Communication Engineering\",\"Semester\":7,\"Notes Link \":\"https:\\\\/\\\\/www.temporary-url.com\\\\/A28B\"},{\"Department\":\"Electronics and Communication Engineering\",\"Semester\":7,\"Notes Link \":\"https:\\\\/\\\\/www.temporary-url.com\\\\/A28B\"},{\"Department\":\"Electronics and Communication Engineering\",\"Semester\":8,\"Notes Link \":\"https:\\\\/\\\\/www.temporary-url.com\\\\/A28B\"},{\"Department\":\"Humanities and Social Sciences\",\"Semester\":1,\"Notes Link \":\"https:\\\\/\\\\/www.temporary-url.com\\\\/A28B\"},{\"Department\":\"Humanities and Social Sciences\",\"Semester\":2,\"Notes Link \":\"https:\\\\/\\\\/www.temporary-url.com\\\\/A28B\"},{\"Department\":\"Humanities and Social Sciences\",\"Semester\":3,\"Notes Link \":\"https:\\\\/\\\\/www.temporary-url.com\\\\/A28B\"},{\"Department\":\"Humanities and Social Sciences\",\"Semester\":4,\"Notes Link \":\"https:\\\\/\\\\/www.temporary-url.com\\\\/A28B\"},{\"Department\":\"Humanities and Social Sciences\",\"Semester\":5,\"Notes Link \":\"https:\\\\/\\\\/www.temporary-url.com\\\\/A28B\"},{\"Department\":\"Humanities and Social Sciences\",\"Semester\":6,\"Notes Link \":\"https:\\\\/\\\\/www.temporary-url.com\\\\/A28B\"},{\"Department\":\"Humanities and Social Sciences\",\"Semester\":7,\"Notes Link \":\"https:\\\\/\\\\/www.temporary-url.com\\\\/A28B\"},{\"Department\":\"Humanities and Social Sciences\",\"Semester\":7,\"Notes Link \":\"https:\\\\/\\\\/www.temporary-url.com\\\\/A28B\"},{\"Department\":\"Humanities and Social Sciences\",\"Semester\":8,\"Notes Link \":\"https:\\\\/\\\\/www.temporary-url.com\\\\/A28B\"},{\"Department\":\"Information Technology\",\"Semester\":1,\"Notes Link \":\"https:\\\\/\\\\/www.temporary-url.com\\\\/A28B\"},{\"Department\":\"Information Technology\",\"Semester\":2,\"Notes Link \":\"https:\\\\/\\\\/www.temporary-url.com\\\\/A28B\"},{\"Department\":\"Information Technology\",\"Semester\":3,\"Notes Link \":\"https:\\\\/\\\\/www.temporary-url.com\\\\/A28B\"},{\"Department\":\"Information Technology\",\"Semester\":4,\"Notes Link \":\"https:\\\\/\\\\/www.temporary-url.com\\\\/A28B\"},{\"Department\":\"Information Technology\",\"Semester\":5,\"Notes Link \":\"https:\\\\/\\\\/www.temporary-url.com\\\\/A28B\"},{\"Department\":\"Information Technology\",\"Semester\":6,\"Notes Link \":\"https:\\\\/\\\\/www.temporary-url.com\\\\/A28B\"},{\"Department\":\"Information Technology\",\"Semester\":7,\"Notes Link \":\"https:\\\\/\\\\/www.temporary-url.com\\\\/A28B\"},{\"Department\":\"Information Technology\",\"Semester\":7,\"Notes Link \":\"https:\\\\/\\\\/www.temporary-url.com\\\\/A28B\"},{\"Department\":\"Information Technology\",\"Semester\":8,\"Notes Link \":\"https:\\\\/\\\\/www.temporary-url.com\\\\/A28B\"},{\"Department\":\"Marine Engineering\",\"Semester\":1,\"Notes Link \":\"https:\\\\/\\\\/www.temporary-url.com\\\\/A28B\"},{\"Department\":\"Marine Engineering\",\"Semester\":2,\"Notes Link \":\"https:\\\\/\\\\/www.temporary-url.com\\\\/A28B\"},{\"Department\":\"Marine Engineering\",\"Semester\":3,\"Notes Link \":\"https:\\\\/\\\\/www.temporary-url.com\\\\/A28B\"},{\"Department\":\"Marine Engineering\",\"Semester\":4,\"Notes Link \":\"https:\\\\/\\\\/www.temporary-url.com\\\\/A28B\"},{\"Department\":\"Marine Engineering\",\"Semester\":5,\"Notes Link \":\"https:\\\\/\\\\/www.temporary-url.com\\\\/A28B\"},{\"Department\":\"Marine Engineering\",\"Semester\":6,\"Notes Link \":\"https:\\\\/\\\\/www.temporary-url.com\\\\/A28B\"},{\"Department\":\"Marine Engineering\",\"Semester\":7,\"Notes Link \":\"https:\\\\/\\\\/www.temporary-url.com\\\\/A28B\"},{\"Department\":\"Marine Engineering\",\"Semester\":7,\"Notes Link \":\"https:\\\\/\\\\/www.temporary-url.com\\\\/A28B\"},{\"Department\":\"Marine Engineering\",\"Semester\":8,\"Notes Link \":\"https:\\\\/\\\\/www.temporary-url.com\\\\/A28B\"},{\"Department\":\"Mechanical Engineering\",\"Semester\":1,\"Notes Link \":\"https:\\\\/\\\\/www.temporary-url.com\\\\/A28B\"},{\"Department\":\"Mechanical Engineering\",\"Semester\":2,\"Notes Link \":\"https:\\\\/\\\\/www.temporary-url.com\\\\/A28B\"},{\"Department\":\"Mechanical Engineering\",\"Semester\":3,\"Notes Link \":\"https:\\\\/\\\\/www.temporary-url.com\\\\/A28B\"},{\"Department\":\"Mechanical Engineering\",\"Semester\":4,\"Notes Link \":\"https:\\\\/\\\\/www.temporary-url.com\\\\/A28B\"},{\"Department\":\"Mechanical Engineering\",\"Semester\":5,\"Notes Link \":\"https:\\\\/\\\\/www.temporary-url.com\\\\/A28B\"},{\"Department\":\"Mechanical Engineering\",\"Semester\":6,\"Notes Link \":\"https:\\\\/\\\\/www.temporary-url.com\\\\/A28B\"},{\"Department\":\"Mechanical Engineering\",\"Semester\":7,\"Notes Link \":\"https:\\\\/\\\\/www.temporary-url.com\\\\/A28B\"},{\"Department\":\"Mechanical Engineering\",\"Semester\":7,\"Notes Link \":\"https:\\\\/\\\\/www.temporary-url.com\\\\/A28B\"},{\"Department\":\"Mechanical Engineering\",\"Semester\":8,\"Notes Link \":\"https:\\\\/\\\\/www.temporary-url.com\\\\/A28B\"}]'"
      ]
     },
     "execution_count": 9,
     "metadata": {},
     "output_type": "execute_result"
    }
   ],
   "source": [
    "json_str"
   ]
  },
  {
   "cell_type": "code",
   "execution_count": null,
   "metadata": {},
   "outputs": [],
   "source": []
  },
  {
   "cell_type": "code",
   "execution_count": null,
   "metadata": {},
   "outputs": [],
   "source": []
  }
 ],
 "metadata": {
  "kernelspec": {
   "display_name": "Python 3",
   "language": "python",
   "name": "python3"
  },
  "language_info": {
   "codemirror_mode": {
    "name": "ipython",
    "version": 3
   },
   "file_extension": ".py",
   "mimetype": "text/x-python",
   "name": "python",
   "nbconvert_exporter": "python",
   "pygments_lexer": "ipython3",
   "version": "3.8.5"
  }
 },
 "nbformat": 4,
 "nbformat_minor": 4
}
