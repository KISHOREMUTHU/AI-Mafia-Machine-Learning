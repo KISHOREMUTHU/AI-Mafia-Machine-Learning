{
 "cells": [
  {
   "cell_type": "code",
   "execution_count": 1,
   "id": "passive-taiwan",
   "metadata": {},
   "outputs": [],
   "source": [
    "import numpy as np\n",
    "import pandas as pd"
   ]
  },
  {
   "cell_type": "code",
   "execution_count": 7,
   "id": "honest-world",
   "metadata": {},
   "outputs": [
    {
     "name": "stdout",
     "output_type": "stream",
     "text": [
      "0    5\n",
      "1    6\n",
      "2    7\n",
      "3    8\n",
      "dtype: int64\n",
      "a    10\n",
      "b    20\n",
      "c    30\n",
      "dtype: int64\n",
      "USA        1\n",
      "Germany    2\n",
      "France     3\n",
      "Japan      4\n",
      "dtype: int64\n"
     ]
    }
   ],
   "source": [
    "# pandas is mainly useful for data visualisation and data storage\n",
    "# pandas is used to create python object called dataframe from any data \n",
    "\n",
    "#series is the first data type of pandas .It is similar to numpy array , but has axis labels . \n",
    "l = {'a':10,'b':20,'c':30}\n",
    "ans = pd.Series(data = l)\n",
    "arr =[5,6,7,8]\n",
    "print(pd.Series(arr))\n",
    "print(ans)\n",
    "\n",
    "# functions can also be stored in pandas \n"
   ]
  },
  {
   "cell_type": "code",
   "execution_count": 8,
   "id": "forced-blogger",
   "metadata": {},
   "outputs": [
    {
     "name": "stdout",
     "output_type": "stream",
     "text": [
      "USA        1\n",
      "Germany    2\n",
      "France     3\n",
      "Japan      4\n",
      "dtype: int64\n"
     ]
    }
   ],
   "source": [
    "\n",
    "ser1 = pd.Series([1,2,3,4],index = ['USA','Germany','France','Japan'])\n",
    "print(ser1)\n",
    "\n",
    "\n"
   ]
  },
  {
   "cell_type": "code",
   "execution_count": null,
   "id": "presidential-plane",
   "metadata": {},
   "outputs": [],
   "source": [
    "# Series can be added , if the attributes are not present in both the data series , it will print NaN\n",
    "# we can add new data into a data frame by transform functions\n",
    "# drop function is used to delete a dataframe , based on flag values \n"
   ]
  }
 ],
 "metadata": {
  "kernelspec": {
   "display_name": "Python 3",
   "language": "python",
   "name": "python3"
  },
  "language_info": {
   "codemirror_mode": {
    "name": "ipython",
    "version": 3
   },
   "file_extension": ".py",
   "mimetype": "text/x-python",
   "name": "python",
   "nbconvert_exporter": "python",
   "pygments_lexer": "ipython3",
   "version": "3.9.1"
  }
 },
 "nbformat": 4,
 "nbformat_minor": 5
}
