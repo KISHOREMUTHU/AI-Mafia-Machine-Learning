{
 "cells": [
  {
   "cell_type": "code",
   "execution_count": 6,
   "id": "thrown-interim",
   "metadata": {},
   "outputs": [
    {
     "data": {
      "text/plain": [
       "Point(x=1190, y=658)"
      ]
     },
     "execution_count": 6,
     "metadata": {},
     "output_type": "execute_result"
    }
   ],
   "source": [
    "import pyautogui\n",
    "pyautogui.position()"
   ]
  },
  {
   "cell_type": "code",
   "execution_count": 10,
   "id": "varying-cornwall",
   "metadata": {},
   "outputs": [],
   "source": [
    "import pyautogui\n",
    "import time\n",
    "for i in range(5):\n",
    "    pyautogui.click(1190, 658)\n",
    "#time.sleep(0.2)"
   ]
  },
  {
   "cell_type": "code",
   "execution_count": 11,
   "id": "arctic-conjunction",
   "metadata": {},
   "outputs": [
    {
     "data": {
      "text/plain": [
       "Point(x=1173, y=270)"
      ]
     },
     "execution_count": 11,
     "metadata": {},
     "output_type": "execute_result"
    }
   ],
   "source": [
    "#Linkedin Automation\n",
    "import pyautogui\n",
    "pyautogui.position()\n"
   ]
  },
  {
   "cell_type": "code",
   "execution_count": 12,
   "id": "mighty-stereo",
   "metadata": {},
   "outputs": [],
   "source": [
    "for i in range(5):\n",
    "    pyautogui.click(1173, 270)"
   ]
  },
  {
   "cell_type": "code",
   "execution_count": null,
   "id": "optical-dutch",
   "metadata": {},
   "outputs": [],
   "source": []
  }
 ],
 "metadata": {
  "kernelspec": {
   "display_name": "Python 3",
   "language": "python",
   "name": "python3"
  },
  "language_info": {
   "codemirror_mode": {
    "name": "ipython",
    "version": 3
   },
   "file_extension": ".py",
   "mimetype": "text/x-python",
   "name": "python",
   "nbconvert_exporter": "python",
   "pygments_lexer": "ipython3",
   "version": "3.9.1"
  }
 },
 "nbformat": 4,
 "nbformat_minor": 5
}
